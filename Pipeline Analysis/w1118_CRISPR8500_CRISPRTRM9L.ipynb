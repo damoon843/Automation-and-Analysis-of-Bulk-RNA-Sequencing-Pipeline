{
 "cells": [
  {
   "cell_type": "code",
   "execution_count": 9,
   "metadata": {},
   "outputs": [],
   "source": [
    "import numpy as np\n",
    "import pandas as pd"
   ]
  },
  {
   "cell_type": "markdown",
   "metadata": {},
   "source": [
    "# Transform raw counts data to obtain log2FC values for both comparisons."
   ]
  },
  {
   "cell_type": "code",
   "execution_count": 14,
   "metadata": {},
   "outputs": [],
   "source": [
    "raw_counts = pd.read_table(\"/Users/MOON/Documents/summer_utra_2020/CRISPR8500_TRM9L/data/gene_read_counts_htseq_table_withw1118Rep1_final.tsv\")"
   ]
  },
  {
   "cell_type": "code",
   "execution_count": 15,
   "metadata": {
    "scrolled": true
   },
   "outputs": [
    {
     "data": {
      "text/html": [
       "<div>\n",
       "<style scoped>\n",
       "    .dataframe tbody tr th:only-of-type {\n",
       "        vertical-align: middle;\n",
       "    }\n",
       "\n",
       "    .dataframe tbody tr th {\n",
       "        vertical-align: top;\n",
       "    }\n",
       "\n",
       "    .dataframe thead th {\n",
       "        text-align: right;\n",
       "    }\n",
       "</style>\n",
       "<table border=\"1\" class=\"dataframe\">\n",
       "  <thead>\n",
       "    <tr style=\"text-align: right;\">\n",
       "      <th></th>\n",
       "      <th>GeneID</th>\n",
       "      <th>w1118_Rep1</th>\n",
       "      <th>w1118_Rep2</th>\n",
       "      <th>w1118_Rep3</th>\n",
       "      <th>CRISPR8500_Rep1</th>\n",
       "      <th>CRISPR8500_Rep2</th>\n",
       "      <th>CRISPR8500_Rep3</th>\n",
       "      <th>CRISPRTRM9L_Rep1</th>\n",
       "      <th>CRISPRTRM9L_Rep2</th>\n",
       "      <th>CRISPRTRM9L_Rep3</th>\n",
       "    </tr>\n",
       "  </thead>\n",
       "  <tbody>\n",
       "    <tr>\n",
       "      <th>0</th>\n",
       "      <td>FBgn0000003</td>\n",
       "      <td>0</td>\n",
       "      <td>0</td>\n",
       "      <td>0</td>\n",
       "      <td>0</td>\n",
       "      <td>2</td>\n",
       "      <td>1</td>\n",
       "      <td>0</td>\n",
       "      <td>0</td>\n",
       "      <td>0</td>\n",
       "    </tr>\n",
       "    <tr>\n",
       "      <th>1</th>\n",
       "      <td>FBgn0000008</td>\n",
       "      <td>218</td>\n",
       "      <td>377</td>\n",
       "      <td>377</td>\n",
       "      <td>463</td>\n",
       "      <td>454</td>\n",
       "      <td>255</td>\n",
       "      <td>298</td>\n",
       "      <td>291</td>\n",
       "      <td>365</td>\n",
       "    </tr>\n",
       "    <tr>\n",
       "      <th>2</th>\n",
       "      <td>FBgn0000014</td>\n",
       "      <td>23</td>\n",
       "      <td>16</td>\n",
       "      <td>16</td>\n",
       "      <td>25</td>\n",
       "      <td>38</td>\n",
       "      <td>37</td>\n",
       "      <td>77</td>\n",
       "      <td>19</td>\n",
       "      <td>31</td>\n",
       "    </tr>\n",
       "    <tr>\n",
       "      <th>3</th>\n",
       "      <td>FBgn0000015</td>\n",
       "      <td>26</td>\n",
       "      <td>6</td>\n",
       "      <td>6</td>\n",
       "      <td>13</td>\n",
       "      <td>50</td>\n",
       "      <td>49</td>\n",
       "      <td>70</td>\n",
       "      <td>17</td>\n",
       "      <td>41</td>\n",
       "    </tr>\n",
       "    <tr>\n",
       "      <th>4</th>\n",
       "      <td>FBgn0000017</td>\n",
       "      <td>675</td>\n",
       "      <td>1391</td>\n",
       "      <td>1391</td>\n",
       "      <td>1725</td>\n",
       "      <td>1733</td>\n",
       "      <td>1178</td>\n",
       "      <td>1434</td>\n",
       "      <td>1765</td>\n",
       "      <td>1996</td>\n",
       "    </tr>\n",
       "  </tbody>\n",
       "</table>\n",
       "</div>"
      ],
      "text/plain": [
       "        GeneID  w1118_Rep1  w1118_Rep2  w1118_Rep3  CRISPR8500_Rep1  \\\n",
       "0  FBgn0000003           0           0           0                0   \n",
       "1  FBgn0000008         218         377         377              463   \n",
       "2  FBgn0000014          23          16          16               25   \n",
       "3  FBgn0000015          26           6           6               13   \n",
       "4  FBgn0000017         675        1391        1391             1725   \n",
       "\n",
       "   CRISPR8500_Rep2  CRISPR8500_Rep3  CRISPRTRM9L_Rep1  CRISPRTRM9L_Rep2  \\\n",
       "0                2                1                 0                 0   \n",
       "1              454              255               298               291   \n",
       "2               38               37                77                19   \n",
       "3               50               49                70                17   \n",
       "4             1733             1178              1434              1765   \n",
       "\n",
       "   CRISPRTRM9L_Rep3  \n",
       "0                 0  \n",
       "1               365  \n",
       "2                31  \n",
       "3                41  \n",
       "4              1996  "
      ]
     },
     "execution_count": 15,
     "metadata": {},
     "output_type": "execute_result"
    }
   ],
   "source": [
    "raw_counts.head()"
   ]
  },
  {
   "cell_type": "code",
   "execution_count": 16,
   "metadata": {},
   "outputs": [
    {
     "data": {
      "text/html": [
       "<div>\n",
       "<style scoped>\n",
       "    .dataframe tbody tr th:only-of-type {\n",
       "        vertical-align: middle;\n",
       "    }\n",
       "\n",
       "    .dataframe tbody tr th {\n",
       "        vertical-align: top;\n",
       "    }\n",
       "\n",
       "    .dataframe thead th {\n",
       "        text-align: right;\n",
       "    }\n",
       "</style>\n",
       "<table border=\"1\" class=\"dataframe\">\n",
       "  <thead>\n",
       "    <tr style=\"text-align: right;\">\n",
       "      <th></th>\n",
       "      <th>GeneID</th>\n",
       "      <th>w1118_Rep1</th>\n",
       "      <th>w1118_Rep2</th>\n",
       "      <th>w1118_Rep3</th>\n",
       "      <th>CRISPR8500_Rep1</th>\n",
       "      <th>CRISPR8500_Rep2</th>\n",
       "      <th>CRISPR8500_Rep3</th>\n",
       "      <th>CRISPRTRM9L_Rep1</th>\n",
       "      <th>CRISPRTRM9L_Rep2</th>\n",
       "      <th>CRISPRTRM9L_Rep3</th>\n",
       "    </tr>\n",
       "  </thead>\n",
       "  <tbody>\n",
       "    <tr>\n",
       "      <th>1</th>\n",
       "      <td>FBgn0000008</td>\n",
       "      <td>218</td>\n",
       "      <td>377</td>\n",
       "      <td>377</td>\n",
       "      <td>463</td>\n",
       "      <td>454</td>\n",
       "      <td>255</td>\n",
       "      <td>298</td>\n",
       "      <td>291</td>\n",
       "      <td>365</td>\n",
       "    </tr>\n",
       "    <tr>\n",
       "      <th>2</th>\n",
       "      <td>FBgn0000014</td>\n",
       "      <td>23</td>\n",
       "      <td>16</td>\n",
       "      <td>16</td>\n",
       "      <td>25</td>\n",
       "      <td>38</td>\n",
       "      <td>37</td>\n",
       "      <td>77</td>\n",
       "      <td>19</td>\n",
       "      <td>31</td>\n",
       "    </tr>\n",
       "    <tr>\n",
       "      <th>3</th>\n",
       "      <td>FBgn0000015</td>\n",
       "      <td>26</td>\n",
       "      <td>6</td>\n",
       "      <td>6</td>\n",
       "      <td>13</td>\n",
       "      <td>50</td>\n",
       "      <td>49</td>\n",
       "      <td>70</td>\n",
       "      <td>17</td>\n",
       "      <td>41</td>\n",
       "    </tr>\n",
       "    <tr>\n",
       "      <th>4</th>\n",
       "      <td>FBgn0000017</td>\n",
       "      <td>675</td>\n",
       "      <td>1391</td>\n",
       "      <td>1391</td>\n",
       "      <td>1725</td>\n",
       "      <td>1733</td>\n",
       "      <td>1178</td>\n",
       "      <td>1434</td>\n",
       "      <td>1765</td>\n",
       "      <td>1996</td>\n",
       "    </tr>\n",
       "    <tr>\n",
       "      <th>5</th>\n",
       "      <td>FBgn0000018</td>\n",
       "      <td>51</td>\n",
       "      <td>60</td>\n",
       "      <td>60</td>\n",
       "      <td>95</td>\n",
       "      <td>116</td>\n",
       "      <td>91</td>\n",
       "      <td>72</td>\n",
       "      <td>98</td>\n",
       "      <td>91</td>\n",
       "    </tr>\n",
       "  </tbody>\n",
       "</table>\n",
       "</div>"
      ],
      "text/plain": [
       "        GeneID  w1118_Rep1  w1118_Rep2  w1118_Rep3  CRISPR8500_Rep1  \\\n",
       "1  FBgn0000008         218         377         377              463   \n",
       "2  FBgn0000014          23          16          16               25   \n",
       "3  FBgn0000015          26           6           6               13   \n",
       "4  FBgn0000017         675        1391        1391             1725   \n",
       "5  FBgn0000018          51          60          60               95   \n",
       "\n",
       "   CRISPR8500_Rep2  CRISPR8500_Rep3  CRISPRTRM9L_Rep1  CRISPRTRM9L_Rep2  \\\n",
       "1              454              255               298               291   \n",
       "2               38               37                77                19   \n",
       "3               50               49                70                17   \n",
       "4             1733             1178              1434              1765   \n",
       "5              116               91                72                98   \n",
       "\n",
       "   CRISPRTRM9L_Rep3  \n",
       "1               365  \n",
       "2                31  \n",
       "3                41  \n",
       "4              1996  \n",
       "5                91  "
      ]
     },
     "execution_count": 16,
     "metadata": {},
     "output_type": "execute_result"
    }
   ],
   "source": [
    "# Filter out genes that have 0 for w1118_Rep1/w1118_Rep2/Rep3.\n",
    "\n",
    "raw_counts = raw_counts[(raw_counts['w1118_Rep2'] != 0) & (raw_counts['w1118_Rep3'] != 0) & (raw_counts['w1118_Rep1'] != 0)]\n",
    "raw_counts.head()"
   ]
  },
  {
   "cell_type": "code",
   "execution_count": 17,
   "metadata": {
    "scrolled": false
   },
   "outputs": [
    {
     "name": "stderr",
     "output_type": "stream",
     "text": [
      "/Users/MOON/opt/anaconda3/lib/python3.7/site-packages/pandas/core/series.py:679: RuntimeWarning: divide by zero encountered in log2\n",
      "  result = getattr(ufunc, method)(*inputs, **kwargs)\n"
     ]
    }
   ],
   "source": [
    "# Calculate log2_FC values for CRISPR8500 and CRISPRTRM9L\n",
    "\n",
    "# FOR CRISPR8500:\n",
    "raw_counts = raw_counts.copy()\n",
    "raw_counts.loc[:,'log2_FC_CRISPR8500'] = raw_counts.apply(\n",
    "    (lambda gene: (((\n",
    "                    gene[\"CRISPR8500_Rep1\"]\n",
    "                    + gene[\"CRISPR8500_Rep2\"]\n",
    "                    + gene[\"CRISPR8500_Rep3\"])/ 3)\n",
    "                    / \n",
    "                    ((gene[\"w1118_Rep2\"] + gene[\"w1118_Rep3\"] + gene['w1118_Rep1']) / 3))),\n",
    "    axis=1)\n",
    "\n",
    "# Take log2 of the entire column.\n",
    "raw_counts.loc[:,'log2_FC_CRISPR8500'] = np.log2(raw_counts[\"log2_FC_CRISPR8500\"])"
   ]
  },
  {
   "cell_type": "code",
   "execution_count": 18,
   "metadata": {},
   "outputs": [],
   "source": [
    "# FOR CRISPRTRM9L:\n",
    "raw_counts.loc[:,\"log2_FC_CRISPRTRM9L\"] = raw_counts.apply(\n",
    "    (lambda gene: (((\n",
    "                    gene[\"CRISPRTRM9L_Rep1\"]\n",
    "                    + gene[\"CRISPRTRM9L_Rep2\"]\n",
    "                    + gene[\"CRISPRTRM9L_Rep3\"])/ 3)\n",
    "                    / \n",
    "                    ((gene[\"w1118_Rep2\"] + gene[\"w1118_Rep3\"] + gene[\"w1118_Rep1\"]) / 3))),\n",
    "    axis=1)\n",
    "\n",
    "# Take log2 of the entire column.\n",
    "raw_counts.loc[:,\"log2_FC_CRISPRTRM9L\"] = np.log2(raw_counts[\"log2_FC_CRISPRTRM9L\"])"
   ]
  },
  {
   "cell_type": "code",
   "execution_count": 19,
   "metadata": {},
   "outputs": [
    {
     "data": {
      "text/html": [
       "<div>\n",
       "<style scoped>\n",
       "    .dataframe tbody tr th:only-of-type {\n",
       "        vertical-align: middle;\n",
       "    }\n",
       "\n",
       "    .dataframe tbody tr th {\n",
       "        vertical-align: top;\n",
       "    }\n",
       "\n",
       "    .dataframe thead th {\n",
       "        text-align: right;\n",
       "    }\n",
       "</style>\n",
       "<table border=\"1\" class=\"dataframe\">\n",
       "  <thead>\n",
       "    <tr style=\"text-align: right;\">\n",
       "      <th></th>\n",
       "      <th>GeneID</th>\n",
       "      <th>log2_FC_CRISPR8500</th>\n",
       "      <th>log2_FC_CRISPRTRM9L</th>\n",
       "    </tr>\n",
       "  </thead>\n",
       "  <tbody>\n",
       "    <tr>\n",
       "      <th>1</th>\n",
       "      <td>FBgn0000008</td>\n",
       "      <td>0.269944</td>\n",
       "      <td>-0.026967</td>\n",
       "    </tr>\n",
       "    <tr>\n",
       "      <th>2</th>\n",
       "      <td>FBgn0000014</td>\n",
       "      <td>0.862496</td>\n",
       "      <td>1.207325</td>\n",
       "    </tr>\n",
       "    <tr>\n",
       "      <th>3</th>\n",
       "      <td>FBgn0000015</td>\n",
       "      <td>1.559427</td>\n",
       "      <td>1.752072</td>\n",
       "    </tr>\n",
       "    <tr>\n",
       "      <th>4</th>\n",
       "      <td>FBgn0000017</td>\n",
       "      <td>0.423360</td>\n",
       "      <td>0.587603</td>\n",
       "    </tr>\n",
       "    <tr>\n",
       "      <th>5</th>\n",
       "      <td>FBgn0000018</td>\n",
       "      <td>0.820552</td>\n",
       "      <td>0.610053</td>\n",
       "    </tr>\n",
       "  </tbody>\n",
       "</table>\n",
       "</div>"
      ],
      "text/plain": [
       "        GeneID  log2_FC_CRISPR8500  log2_FC_CRISPRTRM9L\n",
       "1  FBgn0000008            0.269944            -0.026967\n",
       "2  FBgn0000014            0.862496             1.207325\n",
       "3  FBgn0000015            1.559427             1.752072\n",
       "4  FBgn0000017            0.423360             0.587603\n",
       "5  FBgn0000018            0.820552             0.610053"
      ]
     },
     "execution_count": 19,
     "metadata": {},
     "output_type": "execute_result"
    }
   ],
   "source": [
    "final_counts = raw_counts[['GeneID','log2_FC_CRISPR8500','log2_FC_CRISPRTRM9L']]\n",
    "final_counts.head()"
   ]
  },
  {
   "cell_type": "markdown",
   "metadata": {},
   "source": [
    "# Assign gene names for the IDs in our counts data."
   ]
  },
  {
   "cell_type": "code",
   "execution_count": 20,
   "metadata": {},
   "outputs": [],
   "source": [
    "# Need to obtain gene name for the gene ID's in our data. \n",
    "\n",
    "crispr8500 = pd.read_table(\"/Users/MOON/Documents/summer_utra_2020/CRISPR8500_TRM9L/data/w1118_vs_CRISPR8500_log2fc.tsv\")\n",
    "trm9l = pd.read_table(\"/Users/MOON/Documents/summer_utra_2020/CRISPR8500_TRM9L/data/w1118_vs_CRISPRTRM9L_log2fc.tsv\")"
   ]
  },
  {
   "cell_type": "code",
   "execution_count": 21,
   "metadata": {
    "scrolled": true
   },
   "outputs": [
    {
     "name": "stdout",
     "output_type": "stream",
     "text": [
      "0      8\n",
      "1      8\n",
      "2      8\n",
      "3      8\n",
      "4      8\n",
      "      ..\n",
      "743    8\n",
      "744    8\n",
      "745    8\n",
      "746    8\n",
      "747    8\n",
      "Length: 748, dtype: int64\n",
      "\n",
      "\n",
      "0       7\n",
      "1       7\n",
      "2       7\n",
      "3       7\n",
      "4       7\n",
      "       ..\n",
      "1204    7\n",
      "1205    7\n",
      "1206    7\n",
      "1207    7\n",
      "1208    7\n",
      "Length: 1209, dtype: int64\n"
     ]
    }
   ],
   "source": [
    "print(crispr8500.count(axis=1))\n",
    "print('\\n')\n",
    "print(trm9l.count(axis=1))"
   ]
  },
  {
   "cell_type": "code",
   "execution_count": 22,
   "metadata": {},
   "outputs": [
    {
     "data": {
      "text/plain": [
       "936"
      ]
     },
     "execution_count": 22,
     "metadata": {},
     "output_type": "execute_result"
    }
   ],
   "source": [
    "# There are more gene IDs in the w1118 v. TRM9L file.\n",
    "# Find overlapping genes in both counts file and w1118 v. TRM9L file.\n",
    "\n",
    "count_ids = final_counts['GeneID']\n",
    "trm9l_ids = trm9l['id']\n",
    "bools = trm9l_ids.isin(count_ids)\n",
    "\n",
    "trm9l['id'] = trm9l[bools]\n",
    "new_trm9l = trm9l.dropna()\n",
    "new_trm9l['id'].count()"
   ]
  },
  {
   "cell_type": "code",
   "execution_count": 23,
   "metadata": {},
   "outputs": [
    {
     "data": {
      "text/html": [
       "<div>\n",
       "<style scoped>\n",
       "    .dataframe tbody tr th:only-of-type {\n",
       "        vertical-align: middle;\n",
       "    }\n",
       "\n",
       "    .dataframe tbody tr th {\n",
       "        vertical-align: top;\n",
       "    }\n",
       "\n",
       "    .dataframe thead th {\n",
       "        text-align: right;\n",
       "    }\n",
       "</style>\n",
       "<table border=\"1\" class=\"dataframe\">\n",
       "  <thead>\n",
       "    <tr style=\"text-align: right;\">\n",
       "      <th></th>\n",
       "      <th>id</th>\n",
       "      <th>gene_name</th>\n",
       "    </tr>\n",
       "  </thead>\n",
       "  <tbody>\n",
       "    <tr>\n",
       "      <th>0</th>\n",
       "      <td>FBgn0013276</td>\n",
       "      <td>Hsp70Ab</td>\n",
       "    </tr>\n",
       "    <tr>\n",
       "      <th>1</th>\n",
       "      <td>FBgn0013275</td>\n",
       "      <td>Hsp70Aa</td>\n",
       "    </tr>\n",
       "    <tr>\n",
       "      <th>3</th>\n",
       "      <td>FBgn0001225</td>\n",
       "      <td>Hsp26</td>\n",
       "    </tr>\n",
       "    <tr>\n",
       "      <th>4</th>\n",
       "      <td>FBgn0013279</td>\n",
       "      <td>Hsp70Bc</td>\n",
       "    </tr>\n",
       "    <tr>\n",
       "      <th>5</th>\n",
       "      <td>FBgn0013278</td>\n",
       "      <td>Hsp70Bb</td>\n",
       "    </tr>\n",
       "    <tr>\n",
       "      <th>...</th>\n",
       "      <td>...</td>\n",
       "      <td>...</td>\n",
       "    </tr>\n",
       "    <tr>\n",
       "      <th>1202</th>\n",
       "      <td>FBgn0004181</td>\n",
       "      <td>Ebp</td>\n",
       "    </tr>\n",
       "    <tr>\n",
       "      <th>1204</th>\n",
       "      <td>FBgn0250815</td>\n",
       "      <td>Jon65Aiv</td>\n",
       "    </tr>\n",
       "    <tr>\n",
       "      <th>1205</th>\n",
       "      <td>FBgn0011694</td>\n",
       "      <td>EbpII</td>\n",
       "    </tr>\n",
       "    <tr>\n",
       "      <th>1206</th>\n",
       "      <td>FBgn0011669</td>\n",
       "      <td>Mst57Db</td>\n",
       "    </tr>\n",
       "    <tr>\n",
       "      <th>1207</th>\n",
       "      <td>FBgn0033774</td>\n",
       "      <td>CG12374</td>\n",
       "    </tr>\n",
       "  </tbody>\n",
       "</table>\n",
       "<p>936 rows × 2 columns</p>\n",
       "</div>"
      ],
      "text/plain": [
       "               id gene_name\n",
       "0     FBgn0013276   Hsp70Ab\n",
       "1     FBgn0013275   Hsp70Aa\n",
       "3     FBgn0001225     Hsp26\n",
       "4     FBgn0013279   Hsp70Bc\n",
       "5     FBgn0013278   Hsp70Bb\n",
       "...           ...       ...\n",
       "1202  FBgn0004181       Ebp\n",
       "1204  FBgn0250815  Jon65Aiv\n",
       "1205  FBgn0011694     EbpII\n",
       "1206  FBgn0011669   Mst57Db\n",
       "1207  FBgn0033774   CG12374\n",
       "\n",
       "[936 rows x 2 columns]"
      ]
     },
     "execution_count": 23,
     "metadata": {},
     "output_type": "execute_result"
    }
   ],
   "source": [
    "# Now assign gene names using w1118 vs. TRM9L file to the ID's in the counts file.\n",
    "\n",
    "final_trm9l = new_trm9l[['id','gene_name']]\n",
    "final_trm9l"
   ]
  },
  {
   "cell_type": "code",
   "execution_count": 24,
   "metadata": {
    "scrolled": true
   },
   "outputs": [
    {
     "name": "stderr",
     "output_type": "stream",
     "text": [
      "/Users/MOON/opt/anaconda3/lib/python3.7/site-packages/pandas/core/frame.py:4133: SettingWithCopyWarning: \n",
      "A value is trying to be set on a copy of a slice from a DataFrame\n",
      "\n",
      "See the caveats in the documentation: https://pandas.pydata.org/pandas-docs/stable/user_guide/indexing.html#returning-a-view-versus-a-copy\n",
      "  errors=errors,\n"
     ]
    },
    {
     "data": {
      "text/html": [
       "<div>\n",
       "<style scoped>\n",
       "    .dataframe tbody tr th:only-of-type {\n",
       "        vertical-align: middle;\n",
       "    }\n",
       "\n",
       "    .dataframe tbody tr th {\n",
       "        vertical-align: top;\n",
       "    }\n",
       "\n",
       "    .dataframe thead th {\n",
       "        text-align: right;\n",
       "    }\n",
       "</style>\n",
       "<table border=\"1\" class=\"dataframe\">\n",
       "  <thead>\n",
       "    <tr style=\"text-align: right;\">\n",
       "      <th></th>\n",
       "      <th>id</th>\n",
       "      <th>gene_name</th>\n",
       "      <th>log2_FC_CRISPR8500</th>\n",
       "      <th>log2_FC_CRISPRTRM9L</th>\n",
       "    </tr>\n",
       "  </thead>\n",
       "  <tbody>\n",
       "    <tr>\n",
       "      <th>0</th>\n",
       "      <td>FBgn0000042</td>\n",
       "      <td>Act5C</td>\n",
       "      <td>-0.001507</td>\n",
       "      <td>-0.114671</td>\n",
       "    </tr>\n",
       "    <tr>\n",
       "      <th>1</th>\n",
       "      <td>FBgn0000052</td>\n",
       "      <td>Pfas</td>\n",
       "      <td>0.335632</td>\n",
       "      <td>-0.532923</td>\n",
       "    </tr>\n",
       "    <tr>\n",
       "      <th>2</th>\n",
       "      <td>FBgn0000114</td>\n",
       "      <td>bru1</td>\n",
       "      <td>-0.013986</td>\n",
       "      <td>0.252095</td>\n",
       "    </tr>\n",
       "    <tr>\n",
       "      <th>3</th>\n",
       "      <td>FBgn0000120</td>\n",
       "      <td>Arr1</td>\n",
       "      <td>-0.026749</td>\n",
       "      <td>-0.096681</td>\n",
       "    </tr>\n",
       "    <tr>\n",
       "      <th>4</th>\n",
       "      <td>FBgn0000147</td>\n",
       "      <td>aurA</td>\n",
       "      <td>-0.339486</td>\n",
       "      <td>-0.561879</td>\n",
       "    </tr>\n",
       "  </tbody>\n",
       "</table>\n",
       "</div>"
      ],
      "text/plain": [
       "            id gene_name  log2_FC_CRISPR8500  log2_FC_CRISPRTRM9L\n",
       "0  FBgn0000042     Act5C           -0.001507            -0.114671\n",
       "1  FBgn0000052      Pfas            0.335632            -0.532923\n",
       "2  FBgn0000114      bru1           -0.013986             0.252095\n",
       "3  FBgn0000120      Arr1           -0.026749            -0.096681\n",
       "4  FBgn0000147      aurA           -0.339486            -0.561879"
      ]
     },
     "execution_count": 24,
     "metadata": {},
     "output_type": "execute_result"
    }
   ],
   "source": [
    "# Insert gene names into the counts table by merging the two tables.\n",
    "\n",
    "final_counts.rename(columns={'GeneID':'id'}, inplace=True)\n",
    "merged_counts = final_counts.merge(final_trm9l, how='inner')\n",
    "merged_counts = merged_counts[['id','gene_name','log2_FC_CRISPR8500','log2_FC_CRISPRTRM9L']]\n",
    "\n",
    "merged_counts.head()"
   ]
  },
  {
   "cell_type": "markdown",
   "metadata": {},
   "source": [
    "# Filter for cutoff log2FC values in our counts data."
   ]
  },
  {
   "cell_type": "code",
   "execution_count": 25,
   "metadata": {},
   "outputs": [],
   "source": [
    "# Set the cutoff as 2-fold change (either doubled or halved), based on these two articles.\n",
    "# 1. https://journals.plos.org/plosgenetics/article?id=10.1371/journal.pgen.1006613\n",
    "# 2. https://www.sciencedirect.com/science/article/pii/S0888754319300382"
   ]
  },
  {
   "cell_type": "code",
   "execution_count": 26,
   "metadata": {},
   "outputs": [
    {
     "name": "stderr",
     "output_type": "stream",
     "text": [
      "/Users/MOON/opt/anaconda3/lib/python3.7/site-packages/pandas/core/frame.py:3997: SettingWithCopyWarning: \n",
      "A value is trying to be set on a copy of a slice from a DataFrame\n",
      "\n",
      "See the caveats in the documentation: https://pandas.pydata.org/pandas-docs/stable/user_guide/indexing.html#returning-a-view-versus-a-copy\n",
      "  errors=errors,\n"
     ]
    }
   ],
   "source": [
    "# First filter log2FC values for CRISPR8500 and store in dataframe.\n",
    "final_crispr8500 = merged_counts[(merged_counts['log2_FC_CRISPR8500'] > 1) | (merged_counts['log2_FC_CRISPR8500'] < -1)]\n",
    "final_crispr8500.drop('log2_FC_CRISPRTRM9L', axis=1, inplace=True)\n",
    "\n",
    "\n",
    "# Now filter for CRISPRTRM9L values and store in separate dataframe.\n",
    "final_trm9l = merged_counts[(merged_counts['log2_FC_CRISPRTRM9L'] > 1) | (merged_counts['log2_FC_CRISPRTRM9L'] < -1)]\n",
    "final_trm9l.drop('log2_FC_CRISPR8500', axis=1, inplace=True)"
   ]
  },
  {
   "cell_type": "code",
   "execution_count": 27,
   "metadata": {
    "scrolled": true
   },
   "outputs": [
    {
     "name": "stdout",
     "output_type": "stream",
     "text": [
      "<class 'pandas.core.frame.DataFrame'>\n",
      "Int64Index: 150 entries, 15 to 924\n",
      "Data columns (total 3 columns):\n",
      " #   Column              Non-Null Count  Dtype  \n",
      "---  ------              --------------  -----  \n",
      " 0   id                  150 non-null    object \n",
      " 1   gene_name           150 non-null    object \n",
      " 2   log2_FC_CRISPR8500  150 non-null    float64\n",
      "dtypes: float64(1), object(2)\n",
      "memory usage: 4.7+ KB\n"
     ]
    }
   ],
   "source": [
    "final_crispr8500.info()"
   ]
  },
  {
   "cell_type": "code",
   "execution_count": 28,
   "metadata": {},
   "outputs": [
    {
     "name": "stdout",
     "output_type": "stream",
     "text": [
      "<class 'pandas.core.frame.DataFrame'>\n",
      "Int64Index: 333 entries, 5 to 932\n",
      "Data columns (total 3 columns):\n",
      " #   Column               Non-Null Count  Dtype  \n",
      "---  ------               --------------  -----  \n",
      " 0   id                   333 non-null    object \n",
      " 1   gene_name            333 non-null    object \n",
      " 2   log2_FC_CRISPRTRM9L  333 non-null    float64\n",
      "dtypes: float64(1), object(2)\n",
      "memory usage: 10.4+ KB\n"
     ]
    }
   ],
   "source": [
    "final_trm9l.info()"
   ]
  },
  {
   "cell_type": "markdown",
   "metadata": {},
   "source": [
    "# Prepare Genewiz data to make comparisons with our datasets."
   ]
  },
  {
   "cell_type": "markdown",
   "metadata": {},
   "source": [
    "## First, work with Genewiz data for w1118 v. CRISPR8500."
   ]
  },
  {
   "cell_type": "code",
   "execution_count": 29,
   "metadata": {},
   "outputs": [],
   "source": [
    "genewiz_8500 = pd.read_excel(\"/Users/MOON/Documents/summer_utra_2020/CRISPR8500_TRM9L/data/combinedresults_w1118vs8500.xlsx\")"
   ]
  },
  {
   "cell_type": "code",
   "execution_count": 30,
   "metadata": {},
   "outputs": [
    {
     "data": {
      "text/html": [
       "<div>\n",
       "<style scoped>\n",
       "    .dataframe tbody tr th:only-of-type {\n",
       "        vertical-align: middle;\n",
       "    }\n",
       "\n",
       "    .dataframe tbody tr th {\n",
       "        vertical-align: top;\n",
       "    }\n",
       "\n",
       "    .dataframe thead th {\n",
       "        text-align: right;\n",
       "    }\n",
       "</style>\n",
       "<table border=\"1\" class=\"dataframe\">\n",
       "  <thead>\n",
       "    <tr style=\"text-align: right;\">\n",
       "      <th></th>\n",
       "      <th>Genewiz Results</th>\n",
       "      <th>Unnamed: 1</th>\n",
       "      <th>Unnamed: 2</th>\n",
       "      <th>Lab Results</th>\n",
       "      <th>Unnamed: 4</th>\n",
       "      <th>Unnamed: 5</th>\n",
       "      <th>All pvalues significant. Log values are inverse of each other</th>\n",
       "      <th>Unnamed: 7</th>\n",
       "      <th>Unnamed: 8</th>\n",
       "      <th>Unnamed: 9</th>\n",
       "      <th>Unnamed: 10</th>\n",
       "      <th>Unnamed: 11</th>\n",
       "      <th>positive number/ &lt;1 = higher in experimental</th>\n",
       "    </tr>\n",
       "  </thead>\n",
       "  <tbody>\n",
       "    <tr>\n",
       "      <th>0</th>\n",
       "      <td>Gene name</td>\n",
       "      <td>log2FoldChange</td>\n",
       "      <td>NaN</td>\n",
       "      <td>Gene name</td>\n",
       "      <td>NaN</td>\n",
       "      <td>fc</td>\n",
       "      <td>NaN</td>\n",
       "      <td>NaN</td>\n",
       "      <td>NaN</td>\n",
       "      <td>NaN</td>\n",
       "      <td>NaN</td>\n",
       "      <td>NaN</td>\n",
       "      <td>NaN</td>\n",
       "    </tr>\n",
       "    <tr>\n",
       "      <th>1</th>\n",
       "      <td>CG3397</td>\n",
       "      <td>8.41965</td>\n",
       "      <td>NaN</td>\n",
       "      <td>CR45456</td>\n",
       "      <td>0.027591</td>\n",
       "      <td>0.019309</td>\n",
       "      <td>NaN</td>\n",
       "      <td>NaN</td>\n",
       "      <td>NaN</td>\n",
       "      <td>NaN</td>\n",
       "      <td>NaN</td>\n",
       "      <td>NaN</td>\n",
       "      <td>NaN</td>\n",
       "    </tr>\n",
       "    <tr>\n",
       "      <th>2</th>\n",
       "      <td>CG32581</td>\n",
       "      <td>7.85354</td>\n",
       "      <td>NaN</td>\n",
       "      <td>CR45457</td>\n",
       "      <td>0.031414</td>\n",
       "      <td>0.0220133</td>\n",
       "      <td>NaN</td>\n",
       "      <td>NaN</td>\n",
       "      <td>NaN</td>\n",
       "      <td>NaN</td>\n",
       "      <td>NaN</td>\n",
       "      <td>NaN</td>\n",
       "      <td>NaN</td>\n",
       "    </tr>\n",
       "    <tr>\n",
       "      <th>3</th>\n",
       "      <td>CR45377</td>\n",
       "      <td>7.29691</td>\n",
       "      <td>NaN</td>\n",
       "      <td>CG17005</td>\n",
       "      <td>0.043182</td>\n",
       "      <td>0.0303838</td>\n",
       "      <td>NaN</td>\n",
       "      <td>NaN</td>\n",
       "      <td>NaN</td>\n",
       "      <td>NaN</td>\n",
       "      <td>NaN</td>\n",
       "      <td>NaN</td>\n",
       "      <td>NaN</td>\n",
       "    </tr>\n",
       "    <tr>\n",
       "      <th>4</th>\n",
       "      <td>TwdlF</td>\n",
       "      <td>7.05161</td>\n",
       "      <td>NaN</td>\n",
       "      <td>CG3397</td>\n",
       "      <td>0.057827</td>\n",
       "      <td>0.0408964</td>\n",
       "      <td>NaN</td>\n",
       "      <td>NaN</td>\n",
       "      <td>NaN</td>\n",
       "      <td>NaN</td>\n",
       "      <td>NaN</td>\n",
       "      <td>NaN</td>\n",
       "      <td>NaN</td>\n",
       "    </tr>\n",
       "  </tbody>\n",
       "</table>\n",
       "</div>"
      ],
      "text/plain": [
       "  Genewiz Results      Unnamed: 1  Unnamed: 2 Lab Results  Unnamed: 4  \\\n",
       "0       Gene name  log2FoldChange         NaN   Gene name         NaN   \n",
       "1          CG3397         8.41965         NaN     CR45456    0.027591   \n",
       "2         CG32581         7.85354         NaN     CR45457    0.031414   \n",
       "3         CR45377         7.29691         NaN     CG17005    0.043182   \n",
       "4           TwdlF         7.05161         NaN      CG3397    0.057827   \n",
       "\n",
       "  Unnamed: 5  All pvalues significant. Log values are inverse of each other  \\\n",
       "0         fc                                                NaN               \n",
       "1   0.019309                                                NaN               \n",
       "2  0.0220133                                                NaN               \n",
       "3  0.0303838                                                NaN               \n",
       "4  0.0408964                                                NaN               \n",
       "\n",
       "   Unnamed: 7  Unnamed: 8  Unnamed: 9  Unnamed: 10  Unnamed: 11  \\\n",
       "0         NaN         NaN         NaN          NaN          NaN   \n",
       "1         NaN         NaN         NaN          NaN          NaN   \n",
       "2         NaN         NaN         NaN          NaN          NaN   \n",
       "3         NaN         NaN         NaN          NaN          NaN   \n",
       "4         NaN         NaN         NaN          NaN          NaN   \n",
       "\n",
       "   positive number/ <1 = higher in experimental  \n",
       "0                                           NaN  \n",
       "1                                           NaN  \n",
       "2                                           NaN  \n",
       "3                                           NaN  \n",
       "4                                           NaN  "
      ]
     },
     "execution_count": 30,
     "metadata": {},
     "output_type": "execute_result"
    }
   ],
   "source": [
    "genewiz_8500.head()"
   ]
  },
  {
   "cell_type": "code",
   "execution_count": 31,
   "metadata": {
    "scrolled": true
   },
   "outputs": [
    {
     "data": {
      "text/html": [
       "<div>\n",
       "<style scoped>\n",
       "    .dataframe tbody tr th:only-of-type {\n",
       "        vertical-align: middle;\n",
       "    }\n",
       "\n",
       "    .dataframe tbody tr th {\n",
       "        vertical-align: top;\n",
       "    }\n",
       "\n",
       "    .dataframe thead th {\n",
       "        text-align: right;\n",
       "    }\n",
       "</style>\n",
       "<table border=\"1\" class=\"dataframe\">\n",
       "  <thead>\n",
       "    <tr style=\"text-align: right;\">\n",
       "      <th></th>\n",
       "      <th>Gene name</th>\n",
       "      <th>log2FoldChange</th>\n",
       "    </tr>\n",
       "  </thead>\n",
       "  <tbody>\n",
       "    <tr>\n",
       "      <th>0</th>\n",
       "      <td>Gene name</td>\n",
       "      <td>log2FoldChange</td>\n",
       "    </tr>\n",
       "    <tr>\n",
       "      <th>1</th>\n",
       "      <td>CG3397</td>\n",
       "      <td>8.41965</td>\n",
       "    </tr>\n",
       "    <tr>\n",
       "      <th>2</th>\n",
       "      <td>CG32581</td>\n",
       "      <td>7.85354</td>\n",
       "    </tr>\n",
       "    <tr>\n",
       "      <th>3</th>\n",
       "      <td>CR45377</td>\n",
       "      <td>7.29691</td>\n",
       "    </tr>\n",
       "    <tr>\n",
       "      <th>4</th>\n",
       "      <td>TwdlF</td>\n",
       "      <td>7.05161</td>\n",
       "    </tr>\n",
       "    <tr>\n",
       "      <th>...</th>\n",
       "      <td>...</td>\n",
       "      <td>...</td>\n",
       "    </tr>\n",
       "    <tr>\n",
       "      <th>744</th>\n",
       "      <td>NaN</td>\n",
       "      <td>NaN</td>\n",
       "    </tr>\n",
       "    <tr>\n",
       "      <th>745</th>\n",
       "      <td>NaN</td>\n",
       "      <td>NaN</td>\n",
       "    </tr>\n",
       "    <tr>\n",
       "      <th>746</th>\n",
       "      <td>NaN</td>\n",
       "      <td>NaN</td>\n",
       "    </tr>\n",
       "    <tr>\n",
       "      <th>747</th>\n",
       "      <td>NaN</td>\n",
       "      <td>NaN</td>\n",
       "    </tr>\n",
       "    <tr>\n",
       "      <th>748</th>\n",
       "      <td>NaN</td>\n",
       "      <td>NaN</td>\n",
       "    </tr>\n",
       "  </tbody>\n",
       "</table>\n",
       "<p>749 rows × 2 columns</p>\n",
       "</div>"
      ],
      "text/plain": [
       "0    Gene name  log2FoldChange\n",
       "0    Gene name  log2FoldChange\n",
       "1       CG3397         8.41965\n",
       "2      CG32581         7.85354\n",
       "3      CR45377         7.29691\n",
       "4        TwdlF         7.05161\n",
       "..         ...             ...\n",
       "744        NaN             NaN\n",
       "745        NaN             NaN\n",
       "746        NaN             NaN\n",
       "747        NaN             NaN\n",
       "748        NaN             NaN\n",
       "\n",
       "[749 rows x 2 columns]"
      ]
     },
     "execution_count": 31,
     "metadata": {},
     "output_type": "execute_result"
    }
   ],
   "source": [
    "genewiz_8500.columns = genewiz_8500.iloc[0]\n",
    "new_genewiz_8500 = genewiz_8500.iloc[:,[0,1]]\n",
    "new_genewiz_8500"
   ]
  },
  {
   "cell_type": "code",
   "execution_count": 32,
   "metadata": {},
   "outputs": [
    {
     "data": {
      "text/plain": [
       "0\n",
       "Gene name         251\n",
       "log2FoldChange    251\n",
       "dtype: int64"
      ]
     },
     "execution_count": 32,
     "metadata": {},
     "output_type": "execute_result"
    }
   ],
   "source": [
    "# Clean data (NA values).\n",
    "cleaned_8500 = new_genewiz_8500.dropna(axis=0)\n",
    "cleaned_8500.count()"
   ]
  },
  {
   "cell_type": "code",
   "execution_count": 33,
   "metadata": {},
   "outputs": [
    {
     "data": {
      "text/html": [
       "<div>\n",
       "<style scoped>\n",
       "    .dataframe tbody tr th:only-of-type {\n",
       "        vertical-align: middle;\n",
       "    }\n",
       "\n",
       "    .dataframe tbody tr th {\n",
       "        vertical-align: top;\n",
       "    }\n",
       "\n",
       "    .dataframe thead th {\n",
       "        text-align: right;\n",
       "    }\n",
       "</style>\n",
       "<table border=\"1\" class=\"dataframe\">\n",
       "  <thead>\n",
       "    <tr style=\"text-align: right;\">\n",
       "      <th></th>\n",
       "      <th>Gene name</th>\n",
       "      <th>log2FoldChange</th>\n",
       "    </tr>\n",
       "  </thead>\n",
       "  <tbody>\n",
       "    <tr>\n",
       "      <th>count</th>\n",
       "      <td>26</td>\n",
       "      <td>26.000000</td>\n",
       "    </tr>\n",
       "    <tr>\n",
       "      <th>unique</th>\n",
       "      <td>26</td>\n",
       "      <td>26.000000</td>\n",
       "    </tr>\n",
       "    <tr>\n",
       "      <th>top</th>\n",
       "      <td>CG1791</td>\n",
       "      <td>-1.887004</td>\n",
       "    </tr>\n",
       "    <tr>\n",
       "      <th>freq</th>\n",
       "      <td>1</td>\n",
       "      <td>1.000000</td>\n",
       "    </tr>\n",
       "  </tbody>\n",
       "</table>\n",
       "</div>"
      ],
      "text/plain": [
       "0      Gene name  log2FoldChange\n",
       "count         26       26.000000\n",
       "unique        26       26.000000\n",
       "top       CG1791       -1.887004\n",
       "freq           1        1.000000"
      ]
     },
     "execution_count": 33,
     "metadata": {},
     "output_type": "execute_result"
    }
   ],
   "source": [
    "# Look for gene names in Genewiz that are in our dataset.\n",
    "\n",
    "ocg_names = final_crispr8500['gene_name']\n",
    "genewiz_names = cleaned_8500['Gene name']\n",
    "names_bool = genewiz_names.isin(ocg_names)\n",
    "final_genewiz_8500 = cleaned_8500[names_bool]\n",
    "\n",
    "final_genewiz_8500.describe()"
   ]
  },
  {
   "cell_type": "markdown",
   "metadata": {},
   "source": [
    "## Now, work with Genewiz data for w1118 vs. CRISPR-TRM9L."
   ]
  },
  {
   "cell_type": "code",
   "execution_count": 34,
   "metadata": {},
   "outputs": [],
   "source": [
    "genewiz_trm9l = pd.read_excel(\"/Users/MOON/Documents/summer_utra_2020/CRISPR8500_TRM9L/data/combinedresults_w1118vsTRM9L.xlsx\")"
   ]
  },
  {
   "cell_type": "code",
   "execution_count": 35,
   "metadata": {
    "scrolled": true
   },
   "outputs": [
    {
     "data": {
      "text/html": [
       "<div>\n",
       "<style scoped>\n",
       "    .dataframe tbody tr th:only-of-type {\n",
       "        vertical-align: middle;\n",
       "    }\n",
       "\n",
       "    .dataframe tbody tr th {\n",
       "        vertical-align: top;\n",
       "    }\n",
       "\n",
       "    .dataframe thead th {\n",
       "        text-align: right;\n",
       "    }\n",
       "</style>\n",
       "<table border=\"1\" class=\"dataframe\">\n",
       "  <thead>\n",
       "    <tr style=\"text-align: right;\">\n",
       "      <th></th>\n",
       "      <th>Genewiz</th>\n",
       "      <th>Unnamed: 1</th>\n",
       "      <th>Unnamed: 2</th>\n",
       "      <th>Lab</th>\n",
       "      <th>Unnamed: 4</th>\n",
       "      <th>Unnamed: 5</th>\n",
       "      <th>Unnamed: 6</th>\n",
       "    </tr>\n",
       "  </thead>\n",
       "  <tbody>\n",
       "    <tr>\n",
       "      <th>0</th>\n",
       "      <td>Gene.name</td>\n",
       "      <td>log2FoldChange</td>\n",
       "      <td>NaN</td>\n",
       "      <td>gene_name</td>\n",
       "      <td>log2_fc</td>\n",
       "      <td>NaN</td>\n",
       "      <td>positive number/ &lt;1 = higher in experimental</td>\n",
       "    </tr>\n",
       "    <tr>\n",
       "      <th>1</th>\n",
       "      <td>CR44057</td>\n",
       "      <td>-7.65495</td>\n",
       "      <td>NaN</td>\n",
       "      <td>Hsp70Ab</td>\n",
       "      <td>9.4672</td>\n",
       "      <td>NaN</td>\n",
       "      <td>NaN</td>\n",
       "    </tr>\n",
       "    <tr>\n",
       "      <th>2</th>\n",
       "      <td>Crg-1</td>\n",
       "      <td>-7.59033</td>\n",
       "      <td>NaN</td>\n",
       "      <td>Hsp70Aa</td>\n",
       "      <td>9.42951</td>\n",
       "      <td>NaN</td>\n",
       "      <td>NaN</td>\n",
       "    </tr>\n",
       "    <tr>\n",
       "      <th>3</th>\n",
       "      <td>CR43767</td>\n",
       "      <td>-7.07416</td>\n",
       "      <td>NaN</td>\n",
       "      <td>Hsp22</td>\n",
       "      <td>7.24338</td>\n",
       "      <td>NaN</td>\n",
       "      <td>NaN</td>\n",
       "    </tr>\n",
       "    <tr>\n",
       "      <th>4</th>\n",
       "      <td>Cyp6a17</td>\n",
       "      <td>-6.6365</td>\n",
       "      <td>NaN</td>\n",
       "      <td>Hsp26</td>\n",
       "      <td>6.74607</td>\n",
       "      <td>NaN</td>\n",
       "      <td>NaN</td>\n",
       "    </tr>\n",
       "  </tbody>\n",
       "</table>\n",
       "</div>"
      ],
      "text/plain": [
       "     Genewiz      Unnamed: 1  Unnamed: 2        Lab Unnamed: 4  Unnamed: 5  \\\n",
       "0  Gene.name  log2FoldChange         NaN  gene_name    log2_fc         NaN   \n",
       "1    CR44057        -7.65495         NaN    Hsp70Ab     9.4672         NaN   \n",
       "2      Crg-1        -7.59033         NaN    Hsp70Aa    9.42951         NaN   \n",
       "3    CR43767        -7.07416         NaN      Hsp22    7.24338         NaN   \n",
       "4    Cyp6a17         -6.6365         NaN      Hsp26    6.74607         NaN   \n",
       "\n",
       "                                     Unnamed: 6  \n",
       "0  positive number/ <1 = higher in experimental  \n",
       "1                                           NaN  \n",
       "2                                           NaN  \n",
       "3                                           NaN  \n",
       "4                                           NaN  "
      ]
     },
     "execution_count": 35,
     "metadata": {},
     "output_type": "execute_result"
    }
   ],
   "source": [
    "genewiz_trm9l.head()"
   ]
  },
  {
   "cell_type": "code",
   "execution_count": 36,
   "metadata": {
    "scrolled": true
   },
   "outputs": [
    {
     "data": {
      "text/html": [
       "<div>\n",
       "<style scoped>\n",
       "    .dataframe tbody tr th:only-of-type {\n",
       "        vertical-align: middle;\n",
       "    }\n",
       "\n",
       "    .dataframe tbody tr th {\n",
       "        vertical-align: top;\n",
       "    }\n",
       "\n",
       "    .dataframe thead th {\n",
       "        text-align: right;\n",
       "    }\n",
       "</style>\n",
       "<table border=\"1\" class=\"dataframe\">\n",
       "  <thead>\n",
       "    <tr style=\"text-align: right;\">\n",
       "      <th></th>\n",
       "      <th>Gene.name</th>\n",
       "      <th>log2FoldChange</th>\n",
       "    </tr>\n",
       "  </thead>\n",
       "  <tbody>\n",
       "    <tr>\n",
       "      <th>1</th>\n",
       "      <td>CR44057</td>\n",
       "      <td>-7.65495</td>\n",
       "    </tr>\n",
       "    <tr>\n",
       "      <th>2</th>\n",
       "      <td>Crg-1</td>\n",
       "      <td>-7.59033</td>\n",
       "    </tr>\n",
       "    <tr>\n",
       "      <th>3</th>\n",
       "      <td>CR43767</td>\n",
       "      <td>-7.07416</td>\n",
       "    </tr>\n",
       "    <tr>\n",
       "      <th>4</th>\n",
       "      <td>Cyp6a17</td>\n",
       "      <td>-6.6365</td>\n",
       "    </tr>\n",
       "    <tr>\n",
       "      <th>5</th>\n",
       "      <td>CR45791</td>\n",
       "      <td>-6.41987</td>\n",
       "    </tr>\n",
       "    <tr>\n",
       "      <th>...</th>\n",
       "      <td>...</td>\n",
       "      <td>...</td>\n",
       "    </tr>\n",
       "    <tr>\n",
       "      <th>1205</th>\n",
       "      <td>NaN</td>\n",
       "      <td>NaN</td>\n",
       "    </tr>\n",
       "    <tr>\n",
       "      <th>1206</th>\n",
       "      <td>NaN</td>\n",
       "      <td>NaN</td>\n",
       "    </tr>\n",
       "    <tr>\n",
       "      <th>1207</th>\n",
       "      <td>NaN</td>\n",
       "      <td>NaN</td>\n",
       "    </tr>\n",
       "    <tr>\n",
       "      <th>1208</th>\n",
       "      <td>NaN</td>\n",
       "      <td>NaN</td>\n",
       "    </tr>\n",
       "    <tr>\n",
       "      <th>1209</th>\n",
       "      <td>NaN</td>\n",
       "      <td>NaN</td>\n",
       "    </tr>\n",
       "  </tbody>\n",
       "</table>\n",
       "<p>1209 rows × 2 columns</p>\n",
       "</div>"
      ],
      "text/plain": [
       "0    Gene.name log2FoldChange\n",
       "1      CR44057       -7.65495\n",
       "2        Crg-1       -7.59033\n",
       "3      CR43767       -7.07416\n",
       "4      Cyp6a17        -6.6365\n",
       "5      CR45791       -6.41987\n",
       "...        ...            ...\n",
       "1205       NaN            NaN\n",
       "1206       NaN            NaN\n",
       "1207       NaN            NaN\n",
       "1208       NaN            NaN\n",
       "1209       NaN            NaN\n",
       "\n",
       "[1209 rows x 2 columns]"
      ]
     },
     "execution_count": 36,
     "metadata": {},
     "output_type": "execute_result"
    }
   ],
   "source": [
    "genewiz_trm9l.columns = genewiz_trm9l.loc[0]\n",
    "new_genewiz_trm9l = genewiz_trm9l.iloc[1:,0:2]\n",
    "new_genewiz_trm9l"
   ]
  },
  {
   "cell_type": "code",
   "execution_count": 37,
   "metadata": {},
   "outputs": [
    {
     "data": {
      "text/plain": [
       "0\n",
       "Gene.name         188\n",
       "log2FoldChange    188\n",
       "dtype: int64"
      ]
     },
     "execution_count": 37,
     "metadata": {},
     "output_type": "execute_result"
    }
   ],
   "source": [
    "# Clean data (NA values).\n",
    "cleaned_trm9l = new_genewiz_trm9l.dropna(axis=0)\n",
    "cleaned_trm9l.count()"
   ]
  },
  {
   "cell_type": "code",
   "execution_count": 38,
   "metadata": {},
   "outputs": [
    {
     "data": {
      "text/html": [
       "<div>\n",
       "<style scoped>\n",
       "    .dataframe tbody tr th:only-of-type {\n",
       "        vertical-align: middle;\n",
       "    }\n",
       "\n",
       "    .dataframe tbody tr th {\n",
       "        vertical-align: top;\n",
       "    }\n",
       "\n",
       "    .dataframe thead th {\n",
       "        text-align: right;\n",
       "    }\n",
       "</style>\n",
       "<table border=\"1\" class=\"dataframe\">\n",
       "  <thead>\n",
       "    <tr style=\"text-align: right;\">\n",
       "      <th></th>\n",
       "      <th>Gene.name</th>\n",
       "      <th>log2FoldChange</th>\n",
       "    </tr>\n",
       "  </thead>\n",
       "  <tbody>\n",
       "    <tr>\n",
       "      <th>count</th>\n",
       "      <td>38</td>\n",
       "      <td>38.000000</td>\n",
       "    </tr>\n",
       "    <tr>\n",
       "      <th>unique</th>\n",
       "      <td>38</td>\n",
       "      <td>38.000000</td>\n",
       "    </tr>\n",
       "    <tr>\n",
       "      <th>top</th>\n",
       "      <td>Trissin</td>\n",
       "      <td>-1.389183</td>\n",
       "    </tr>\n",
       "    <tr>\n",
       "      <th>freq</th>\n",
       "      <td>1</td>\n",
       "      <td>1.000000</td>\n",
       "    </tr>\n",
       "  </tbody>\n",
       "</table>\n",
       "</div>"
      ],
      "text/plain": [
       "0      Gene.name  log2FoldChange\n",
       "count         38       38.000000\n",
       "unique        38       38.000000\n",
       "top      Trissin       -1.389183\n",
       "freq           1        1.000000"
      ]
     },
     "execution_count": 38,
     "metadata": {},
     "output_type": "execute_result"
    }
   ],
   "source": [
    "# Look for gene names in Genewiz that are in our dataset.\n",
    "\n",
    "ocg_names = final_trm9l['gene_name']\n",
    "genewiz_names = cleaned_trm9l['Gene.name']\n",
    "names_bool = genewiz_names.isin(ocg_names)\n",
    "final_genewiz_trm9l = cleaned_trm9l[names_bool]\n",
    "\n",
    "final_genewiz_trm9l.describe()"
   ]
  },
  {
   "cell_type": "markdown",
   "metadata": {},
   "source": [
    "# Note: our pipeline produced more 'signficant' genes than Genewiz's pipeline. "
   ]
  },
  {
   "cell_type": "markdown",
   "metadata": {},
   "source": [
    "# Grab genes from James' file and filter our data and Genewiz data further to look at relevant genes."
   ]
  },
  {
   "cell_type": "code",
   "execution_count": 41,
   "metadata": {},
   "outputs": [],
   "source": [
    "synaptic_genes = pd.read_csv(\"/Users/MOON/Documents/summer_utra_2020/synaptic_gene_list.csv\")"
   ]
  },
  {
   "cell_type": "code",
   "execution_count": 42,
   "metadata": {},
   "outputs": [
    {
     "data": {
      "text/html": [
       "<div>\n",
       "<style scoped>\n",
       "    .dataframe tbody tr th:only-of-type {\n",
       "        vertical-align: middle;\n",
       "    }\n",
       "\n",
       "    .dataframe tbody tr th {\n",
       "        vertical-align: top;\n",
       "    }\n",
       "\n",
       "    .dataframe thead th {\n",
       "        text-align: right;\n",
       "    }\n",
       "</style>\n",
       "<table border=\"1\" class=\"dataframe\">\n",
       "  <thead>\n",
       "    <tr style=\"text-align: right;\">\n",
       "      <th></th>\n",
       "      <th>Gene</th>\n",
       "      <th>Gene name</th>\n",
       "    </tr>\n",
       "  </thead>\n",
       "  <tbody>\n",
       "    <tr>\n",
       "      <th>0</th>\n",
       "      <td>FBgn0051665</td>\n",
       "      <td>wry</td>\n",
       "    </tr>\n",
       "    <tr>\n",
       "      <th>1</th>\n",
       "      <td>FBgn0004575</td>\n",
       "      <td>Syn</td>\n",
       "    </tr>\n",
       "    <tr>\n",
       "      <th>2</th>\n",
       "      <td>FBgn0031424</td>\n",
       "      <td>VGlut</td>\n",
       "    </tr>\n",
       "    <tr>\n",
       "      <th>3</th>\n",
       "      <td>FBgn0003386</td>\n",
       "      <td>Shaw</td>\n",
       "    </tr>\n",
       "    <tr>\n",
       "      <th>4</th>\n",
       "      <td>FBgn0051646</td>\n",
       "      <td>DIP-theta</td>\n",
       "    </tr>\n",
       "  </tbody>\n",
       "</table>\n",
       "</div>"
      ],
      "text/plain": [
       "          Gene  Gene name\n",
       "0  FBgn0051665        wry\n",
       "1  FBgn0004575        Syn\n",
       "2  FBgn0031424      VGlut\n",
       "3  FBgn0003386       Shaw\n",
       "4  FBgn0051646  DIP-theta"
      ]
     },
     "execution_count": 42,
     "metadata": {},
     "output_type": "execute_result"
    }
   ],
   "source": [
    "synaptic_genes.head()"
   ]
  },
  {
   "cell_type": "code",
   "execution_count": 43,
   "metadata": {},
   "outputs": [
    {
     "name": "stdout",
     "output_type": "stream",
     "text": [
      "<class 'pandas.core.frame.DataFrame'>\n",
      "RangeIndex: 454 entries, 0 to 453\n",
      "Data columns (total 2 columns):\n",
      " #   Column     Non-Null Count  Dtype \n",
      "---  ------     --------------  ----- \n",
      " 0   Gene       454 non-null    object\n",
      " 1   Gene name  454 non-null    object\n",
      "dtypes: object(2)\n",
      "memory usage: 7.2+ KB\n"
     ]
    }
   ],
   "source": [
    "synaptic_genes.info()"
   ]
  },
  {
   "cell_type": "code",
   "execution_count": 44,
   "metadata": {},
   "outputs": [
    {
     "data": {
      "text/plain": [
       "Gene         454\n",
       "Gene name    448\n",
       "dtype: int64"
      ]
     },
     "execution_count": 44,
     "metadata": {},
     "output_type": "execute_result"
    }
   ],
   "source": [
    "synaptic_genes.nunique()"
   ]
  },
  {
   "cell_type": "code",
   "execution_count": 45,
   "metadata": {},
   "outputs": [],
   "source": [
    "candidates = synaptic_genes['Gene name']"
   ]
  },
  {
   "cell_type": "code",
   "execution_count": 46,
   "metadata": {},
   "outputs": [
    {
     "data": {
      "text/plain": [
       "0          wry\n",
       "1          Syn\n",
       "2        VGlut\n",
       "3         Shaw\n",
       "4    DIP-theta\n",
       "Name: Gene name, dtype: object"
      ]
     },
     "execution_count": 46,
     "metadata": {},
     "output_type": "execute_result"
    }
   ],
   "source": [
    "candidates.head()"
   ]
  },
  {
   "cell_type": "markdown",
   "metadata": {},
   "source": [
    "# Look for genes that are in our data, Genewiz's data, AND James' data.\n"
   ]
  },
  {
   "cell_type": "code",
   "execution_count": 47,
   "metadata": {},
   "outputs": [
    {
     "data": {
      "text/plain": [
       "Series([], Name: Gene name, dtype: bool)"
      ]
     },
     "execution_count": 47,
     "metadata": {},
     "output_type": "execute_result"
    }
   ],
   "source": [
    "genewiz_8500_names = final_genewiz_8500['Gene name']\n",
    "names_bool = genewiz_8500_names.isin(candidates)\n",
    "names_bool[names_bool==True]"
   ]
  },
  {
   "cell_type": "code",
   "execution_count": 48,
   "metadata": {},
   "outputs": [
    {
     "data": {
      "text/plain": [
       "Series([], Name: Gene.name, dtype: bool)"
      ]
     },
     "execution_count": 48,
     "metadata": {},
     "output_type": "execute_result"
    }
   ],
   "source": [
    "genewiz_trm9l_names = final_genewiz_trm9l['Gene.name']\n",
    "names_bool = genewiz_trm9l_names.isin(candidates)\n",
    "names_bool[names_bool==True]"
   ]
  },
  {
   "cell_type": "markdown",
   "metadata": {},
   "source": [
    "# Compare our data to Genewiz's data."
   ]
  },
  {
   "cell_type": "markdown",
   "metadata": {},
   "source": [
    "## First, prepare w1118 v. CRISPR8500 and w1118 v. CRISPRTRM9L datasets."
   ]
  },
  {
   "cell_type": "markdown",
   "metadata": {},
   "source": [
    "#### Working with w1118 v. CRISPR8500"
   ]
  },
  {
   "cell_type": "code",
   "execution_count": 49,
   "metadata": {},
   "outputs": [
    {
     "name": "stderr",
     "output_type": "stream",
     "text": [
      "/Users/MOON/opt/anaconda3/lib/python3.7/site-packages/pandas/core/frame.py:4133: SettingWithCopyWarning: \n",
      "A value is trying to be set on a copy of a slice from a DataFrame\n",
      "\n",
      "See the caveats in the documentation: https://pandas.pydata.org/pandas-docs/stable/user_guide/indexing.html#returning-a-view-versus-a-copy\n",
      "  errors=errors,\n"
     ]
    },
    {
     "data": {
      "text/html": [
       "<div>\n",
       "<style scoped>\n",
       "    .dataframe tbody tr th:only-of-type {\n",
       "        vertical-align: middle;\n",
       "    }\n",
       "\n",
       "    .dataframe tbody tr th {\n",
       "        vertical-align: top;\n",
       "    }\n",
       "\n",
       "    .dataframe thead th {\n",
       "        text-align: right;\n",
       "    }\n",
       "</style>\n",
       "<table border=\"1\" class=\"dataframe\">\n",
       "  <thead>\n",
       "    <tr style=\"text-align: right;\">\n",
       "      <th></th>\n",
       "      <th>id</th>\n",
       "      <th>gene_name</th>\n",
       "      <th>OCG_log2FC_CRISPR8500</th>\n",
       "      <th>GW_log2FC_CRISPR8500</th>\n",
       "    </tr>\n",
       "    <tr>\n",
       "      <th>W1118_CRISPR8500</th>\n",
       "      <th></th>\n",
       "      <th></th>\n",
       "      <th></th>\n",
       "      <th></th>\n",
       "    </tr>\n",
       "  </thead>\n",
       "  <tbody>\n",
       "    <tr>\n",
       "      <th>0</th>\n",
       "      <td>FBgn0013277</td>\n",
       "      <td>Hsp70Ba</td>\n",
       "      <td>4.067904</td>\n",
       "      <td>4.44523</td>\n",
       "    </tr>\n",
       "    <tr>\n",
       "      <th>1</th>\n",
       "      <td>FBgn0015714</td>\n",
       "      <td>Cyp6a17</td>\n",
       "      <td>-2.377513</td>\n",
       "      <td>-2.48351</td>\n",
       "    </tr>\n",
       "    <tr>\n",
       "      <th>2</th>\n",
       "      <td>FBgn0019940</td>\n",
       "      <td>Rh6</td>\n",
       "      <td>3.095667</td>\n",
       "      <td>2.84592</td>\n",
       "    </tr>\n",
       "    <tr>\n",
       "      <th>3</th>\n",
       "      <td>FBgn0028396</td>\n",
       "      <td>TotA</td>\n",
       "      <td>2.698532</td>\n",
       "      <td>2.71304</td>\n",
       "    </tr>\n",
       "    <tr>\n",
       "      <th>4</th>\n",
       "      <td>FBgn0030163</td>\n",
       "      <td>CG1791</td>\n",
       "      <td>1.699046</td>\n",
       "      <td>1.51634</td>\n",
       "    </tr>\n",
       "  </tbody>\n",
       "</table>\n",
       "</div>"
      ],
      "text/plain": [
       "                           id gene_name  OCG_log2FC_CRISPR8500  \\\n",
       "W1118_CRISPR8500                                                 \n",
       "0                 FBgn0013277   Hsp70Ba               4.067904   \n",
       "1                 FBgn0015714   Cyp6a17              -2.377513   \n",
       "2                 FBgn0019940       Rh6               3.095667   \n",
       "3                 FBgn0028396      TotA               2.698532   \n",
       "4                 FBgn0030163    CG1791               1.699046   \n",
       "\n",
       "                 GW_log2FC_CRISPR8500  \n",
       "W1118_CRISPR8500                       \n",
       "0                             4.44523  \n",
       "1                            -2.48351  \n",
       "2                             2.84592  \n",
       "3                             2.71304  \n",
       "4                             1.51634  "
      ]
     },
     "execution_count": 49,
     "metadata": {},
     "output_type": "execute_result"
    }
   ],
   "source": [
    "# Merge our data and Genewiz's data into one dataframe.\n",
    "final_genewiz_8500.rename(columns={'Gene name':'gene_name'},inplace=True)\n",
    "\n",
    "merged_CRISPR8500 = final_crispr8500.merge(final_genewiz_8500, how='inner', left_on='gene_name', right_on='gene_name')\n",
    "\n",
    "# Rename for clarity\n",
    "merged_CRISPR8500.rename(columns={'log2_FC_CRISPR8500':'OCG_log2FC_CRISPR8500','log2FoldChange':'GW_log2FC_CRISPR8500'}, inplace=True)\n",
    "merged_CRISPR8500.rename_axis('W1118_CRISPR8500', inplace=True)\n",
    "merged_CRISPR8500.head()"
   ]
  },
  {
   "cell_type": "markdown",
   "metadata": {},
   "source": [
    "#### Working with w1118 v. CRISPRTRM9L"
   ]
  },
  {
   "cell_type": "code",
   "execution_count": 50,
   "metadata": {},
   "outputs": [
    {
     "name": "stderr",
     "output_type": "stream",
     "text": [
      "/Users/MOON/opt/anaconda3/lib/python3.7/site-packages/pandas/core/frame.py:4133: SettingWithCopyWarning: \n",
      "A value is trying to be set on a copy of a slice from a DataFrame\n",
      "\n",
      "See the caveats in the documentation: https://pandas.pydata.org/pandas-docs/stable/user_guide/indexing.html#returning-a-view-versus-a-copy\n",
      "  errors=errors,\n"
     ]
    },
    {
     "data": {
      "text/html": [
       "<div>\n",
       "<style scoped>\n",
       "    .dataframe tbody tr th:only-of-type {\n",
       "        vertical-align: middle;\n",
       "    }\n",
       "\n",
       "    .dataframe tbody tr th {\n",
       "        vertical-align: top;\n",
       "    }\n",
       "\n",
       "    .dataframe thead th {\n",
       "        text-align: right;\n",
       "    }\n",
       "</style>\n",
       "<table border=\"1\" class=\"dataframe\">\n",
       "  <thead>\n",
       "    <tr style=\"text-align: right;\">\n",
       "      <th></th>\n",
       "      <th>id</th>\n",
       "      <th>gene_name</th>\n",
       "      <th>OCG_log2FC_TRM9L</th>\n",
       "      <th>GW_log2FC_TRM9L</th>\n",
       "    </tr>\n",
       "    <tr>\n",
       "      <th>W1118_CRISPRTRM9L</th>\n",
       "      <th></th>\n",
       "      <th></th>\n",
       "      <th></th>\n",
       "      <th></th>\n",
       "    </tr>\n",
       "  </thead>\n",
       "  <tbody>\n",
       "    <tr>\n",
       "      <th>0</th>\n",
       "      <td>FBgn0002939</td>\n",
       "      <td>ninaD</td>\n",
       "      <td>1.702532</td>\n",
       "      <td>1.65431</td>\n",
       "    </tr>\n",
       "    <tr>\n",
       "      <th>1</th>\n",
       "      <td>FBgn0003250</td>\n",
       "      <td>Rh4</td>\n",
       "      <td>-1.371740</td>\n",
       "      <td>-1.38918</td>\n",
       "    </tr>\n",
       "    <tr>\n",
       "      <th>2</th>\n",
       "      <td>FBgn0015714</td>\n",
       "      <td>Cyp6a17</td>\n",
       "      <td>-9.437128</td>\n",
       "      <td>-6.6365</td>\n",
       "    </tr>\n",
       "    <tr>\n",
       "      <th>3</th>\n",
       "      <td>FBgn0019940</td>\n",
       "      <td>Rh6</td>\n",
       "      <td>2.381866</td>\n",
       "      <td>2.23879</td>\n",
       "    </tr>\n",
       "    <tr>\n",
       "      <th>4</th>\n",
       "      <td>FBgn0021738</td>\n",
       "      <td>Crg-1</td>\n",
       "      <td>-7.396605</td>\n",
       "      <td>-7.59033</td>\n",
       "    </tr>\n",
       "  </tbody>\n",
       "</table>\n",
       "</div>"
      ],
      "text/plain": [
       "                            id gene_name  OCG_log2FC_TRM9L GW_log2FC_TRM9L\n",
       "W1118_CRISPRTRM9L                                                         \n",
       "0                  FBgn0002939     ninaD          1.702532         1.65431\n",
       "1                  FBgn0003250       Rh4         -1.371740        -1.38918\n",
       "2                  FBgn0015714   Cyp6a17         -9.437128         -6.6365\n",
       "3                  FBgn0019940       Rh6          2.381866         2.23879\n",
       "4                  FBgn0021738     Crg-1         -7.396605        -7.59033"
      ]
     },
     "execution_count": 50,
     "metadata": {},
     "output_type": "execute_result"
    }
   ],
   "source": [
    "final_genewiz_trm9l.rename(columns={'Gene.name':'gene_name'}, inplace=True)\n",
    "\n",
    "merged_TRM9L = final_trm9l.merge(final_genewiz_trm9l, how='inner', left_on='gene_name', right_on='gene_name')\n",
    "\n",
    "# Rename for clarity \n",
    "merged_TRM9L.rename(columns={'log2_FC_CRISPRTRM9L':'OCG_log2FC_TRM9L','log2FoldChange':'GW_log2FC_TRM9L'}, inplace=True)\n",
    "merged_TRM9L.rename_axis('W1118_CRISPRTRM9L', inplace=True)\n",
    "merged_TRM9L.head()\n"
   ]
  },
  {
   "cell_type": "markdown",
   "metadata": {},
   "source": [
    "## Second, compare log2_FC values for both datasets."
   ]
  },
  {
   "cell_type": "code",
   "execution_count": 101,
   "metadata": {},
   "outputs": [],
   "source": [
    "import seaborn as sns "
   ]
  },
  {
   "cell_type": "markdown",
   "metadata": {},
   "source": [
    "#### Comparisons for w1118 v. CRISPR8500"
   ]
  },
  {
   "cell_type": "code",
   "execution_count": 56,
   "metadata": {},
   "outputs": [
    {
     "data": {
      "text/plain": [
       "0.9902847896379401"
      ]
     },
     "execution_count": 56,
     "metadata": {},
     "output_type": "execute_result"
    }
   ],
   "source": [
    "merged_CRISPR8500['OCG_log2FC_CRISPR8500'].astype('float64').corr(merged_CRISPR8500['GW_log2FC_CRISPR8500'].astype('float64'))"
   ]
  },
  {
   "cell_type": "code",
   "execution_count": 57,
   "metadata": {},
   "outputs": [
    {
     "data": {
      "text/plain": [
       "<seaborn.axisgrid.FacetGrid at 0x7f8756d1ce50>"
      ]
     },
     "execution_count": 57,
     "metadata": {},
     "output_type": "execute_result"
    },
    {
     "data": {
      "image/png": "[encoded data removed]",
      "text/plain": [
       "<Figure size 360x360 with 1 Axes>"
      ]
     },
     "metadata": {
      "needs_background": "light"
     },
     "output_type": "display_data"
    }
   ],
   "source": [
    "sns.lmplot(x='OCG_log2FC_CRISPR8500', y='GW_log2FC_CRISPR8500',\n",
    "               palette='pastel', data=merged_CRISPR8500)"
   ]
  },
  {
   "cell_type": "markdown",
   "metadata": {},
   "source": [
    "#### Comparisons for w1118 v. CRISPRTRM9L"
   ]
  },
  {
   "cell_type": "code",
   "execution_count": 58,
   "metadata": {},
   "outputs": [
    {
     "data": {
      "text/plain": [
       "0.9876732304272359"
      ]
     },
     "execution_count": 58,
     "metadata": {},
     "output_type": "execute_result"
    }
   ],
   "source": [
    "merged_TRM9L['OCG_log2FC_TRM9L'].astype('float64').corr(merged_TRM9L['GW_log2FC_TRM9L'].astype('float64'))"
   ]
  },
  {
   "cell_type": "code",
   "execution_count": 59,
   "metadata": {},
   "outputs": [
    {
     "data": {
      "text/plain": [
       "<seaborn.axisgrid.FacetGrid at 0x7f87568b74d0>"
      ]
     },
     "execution_count": 59,
     "metadata": {},
     "output_type": "execute_result"
    },
    {
     "data": {
      "image/png": "[encoded data removed]",
      "text/plain": [
       "<Figure size 360x360 with 1 Axes>"
      ]
     },
     "metadata": {
      "needs_background": "light"
     },
     "output_type": "display_data"
    }
   ],
   "source": [
    "sns.lmplot(x='OCG_log2FC_TRM9L', y='GW_log2FC_TRM9L',\n",
    "               palette='pastel', data=merged_TRM9L)"
   ]
  },
  {
   "cell_type": "markdown",
   "metadata": {},
   "source": [
    "# Compare DESeq2 log2FC values from our data against Genewiz's data"
   ]
  },
  {
   "cell_type": "markdown",
   "metadata": {},
   "source": [
    "#### Note: the Genewiz data is from the merged Genewiz and OCG dataframe (that was run through a different pipeline). Original Genewiz data only came with gene names. DESeq2 process was completed with R script (from OCG raw counts data)."
   ]
  },
  {
   "cell_type": "code",
   "execution_count": 59,
   "metadata": {},
   "outputs": [],
   "source": [
    "import plotly.express as px"
   ]
  },
  {
   "cell_type": "markdown",
   "metadata": {},
   "source": [
    "### Working with W1118 v. CRISPRTRM9L (with W1118_rep1)"
   ]
  },
  {
   "cell_type": "code",
   "execution_count": 51,
   "metadata": {},
   "outputs": [],
   "source": [
    "deseq_crisprtrm9l = pd.read_csv(\"/Users/MOON/Documents/summer_utra_2020/CRISPR8500_TRM9L/DESeq2_CRISPRTRM9L_w1118/NEW_log2fc_deseq_TRM9L_w1118.csv\")"
   ]
  },
  {
   "cell_type": "code",
   "execution_count": 52,
   "metadata": {
    "scrolled": true
   },
   "outputs": [
    {
     "data": {
      "text/html": [
       "<div>\n",
       "<style scoped>\n",
       "    .dataframe tbody tr th:only-of-type {\n",
       "        vertical-align: middle;\n",
       "    }\n",
       "\n",
       "    .dataframe tbody tr th {\n",
       "        vertical-align: top;\n",
       "    }\n",
       "\n",
       "    .dataframe thead th {\n",
       "        text-align: right;\n",
       "    }\n",
       "</style>\n",
       "<table border=\"1\" class=\"dataframe\">\n",
       "  <thead>\n",
       "    <tr style=\"text-align: right;\">\n",
       "      <th></th>\n",
       "      <th>ID</th>\n",
       "      <th>log2FoldChange</th>\n",
       "    </tr>\n",
       "  </thead>\n",
       "  <tbody>\n",
       "    <tr>\n",
       "      <th>0</th>\n",
       "      <td>FBgn0000003</td>\n",
       "      <td>NaN</td>\n",
       "    </tr>\n",
       "    <tr>\n",
       "      <th>1</th>\n",
       "      <td>FBgn0000008</td>\n",
       "      <td>-0.088167</td>\n",
       "    </tr>\n",
       "    <tr>\n",
       "      <th>2</th>\n",
       "      <td>FBgn0000014</td>\n",
       "      <td>1.190118</td>\n",
       "    </tr>\n",
       "    <tr>\n",
       "      <th>3</th>\n",
       "      <td>FBgn0000015</td>\n",
       "      <td>1.682087</td>\n",
       "    </tr>\n",
       "    <tr>\n",
       "      <th>4</th>\n",
       "      <td>FBgn0000017</td>\n",
       "      <td>0.524735</td>\n",
       "    </tr>\n",
       "  </tbody>\n",
       "</table>\n",
       "</div>"
      ],
      "text/plain": [
       "            ID  log2FoldChange\n",
       "0  FBgn0000003             NaN\n",
       "1  FBgn0000008       -0.088167\n",
       "2  FBgn0000014        1.190118\n",
       "3  FBgn0000015        1.682087\n",
       "4  FBgn0000017        0.524735"
      ]
     },
     "execution_count": 52,
     "metadata": {},
     "output_type": "execute_result"
    }
   ],
   "source": [
    "deseq_crisprtrm9l = deseq_crisprtrm9l.drop('Unnamed: 0', axis=1)\n",
    "deseq_crisprtrm9l.head()"
   ]
  },
  {
   "cell_type": "code",
   "execution_count": 53,
   "metadata": {
    "scrolled": true
   },
   "outputs": [
    {
     "data": {
      "text/html": [
       "<div>\n",
       "<style scoped>\n",
       "    .dataframe tbody tr th:only-of-type {\n",
       "        vertical-align: middle;\n",
       "    }\n",
       "\n",
       "    .dataframe tbody tr th {\n",
       "        vertical-align: top;\n",
       "    }\n",
       "\n",
       "    .dataframe thead th {\n",
       "        text-align: right;\n",
       "    }\n",
       "</style>\n",
       "<table border=\"1\" class=\"dataframe\">\n",
       "  <thead>\n",
       "    <tr style=\"text-align: right;\">\n",
       "      <th></th>\n",
       "      <th>id</th>\n",
       "      <th>gene_name</th>\n",
       "      <th>OCG_log2FC_TRM9L</th>\n",
       "      <th>GW_log2FC_TRM9L</th>\n",
       "    </tr>\n",
       "    <tr>\n",
       "      <th>W1118_CRISPRTRM9L</th>\n",
       "      <th></th>\n",
       "      <th></th>\n",
       "      <th></th>\n",
       "      <th></th>\n",
       "    </tr>\n",
       "  </thead>\n",
       "  <tbody>\n",
       "    <tr>\n",
       "      <th>0</th>\n",
       "      <td>FBgn0002939</td>\n",
       "      <td>ninaD</td>\n",
       "      <td>1.702532</td>\n",
       "      <td>1.65431</td>\n",
       "    </tr>\n",
       "    <tr>\n",
       "      <th>1</th>\n",
       "      <td>FBgn0003250</td>\n",
       "      <td>Rh4</td>\n",
       "      <td>-1.371740</td>\n",
       "      <td>-1.38918</td>\n",
       "    </tr>\n",
       "    <tr>\n",
       "      <th>2</th>\n",
       "      <td>FBgn0015714</td>\n",
       "      <td>Cyp6a17</td>\n",
       "      <td>-9.437128</td>\n",
       "      <td>-6.6365</td>\n",
       "    </tr>\n",
       "    <tr>\n",
       "      <th>3</th>\n",
       "      <td>FBgn0019940</td>\n",
       "      <td>Rh6</td>\n",
       "      <td>2.381866</td>\n",
       "      <td>2.23879</td>\n",
       "    </tr>\n",
       "    <tr>\n",
       "      <th>4</th>\n",
       "      <td>FBgn0021738</td>\n",
       "      <td>Crg-1</td>\n",
       "      <td>-7.396605</td>\n",
       "      <td>-7.59033</td>\n",
       "    </tr>\n",
       "  </tbody>\n",
       "</table>\n",
       "</div>"
      ],
      "text/plain": [
       "                            id gene_name  OCG_log2FC_TRM9L GW_log2FC_TRM9L\n",
       "W1118_CRISPRTRM9L                                                         \n",
       "0                  FBgn0002939     ninaD          1.702532         1.65431\n",
       "1                  FBgn0003250       Rh4         -1.371740        -1.38918\n",
       "2                  FBgn0015714   Cyp6a17         -9.437128         -6.6365\n",
       "3                  FBgn0019940       Rh6          2.381866         2.23879\n",
       "4                  FBgn0021738     Crg-1         -7.396605        -7.59033"
      ]
     },
     "execution_count": 53,
     "metadata": {},
     "output_type": "execute_result"
    }
   ],
   "source": [
    "# Reminder: here's what the merged OCG (ran through a different pipeline) and Genewiz dataframe looks like.\n",
    "merged_TRM9L.head()"
   ]
  },
  {
   "cell_type": "code",
   "execution_count": 54,
   "metadata": {},
   "outputs": [
    {
     "data": {
      "text/html": [
       "<div>\n",
       "<style scoped>\n",
       "    .dataframe tbody tr th:only-of-type {\n",
       "        vertical-align: middle;\n",
       "    }\n",
       "\n",
       "    .dataframe tbody tr th {\n",
       "        vertical-align: top;\n",
       "    }\n",
       "\n",
       "    .dataframe thead th {\n",
       "        text-align: right;\n",
       "    }\n",
       "</style>\n",
       "<table border=\"1\" class=\"dataframe\">\n",
       "  <thead>\n",
       "    <tr style=\"text-align: right;\">\n",
       "      <th></th>\n",
       "      <th>GW_log2FC_TRM9L</th>\n",
       "    </tr>\n",
       "    <tr>\n",
       "      <th>ID</th>\n",
       "      <th></th>\n",
       "    </tr>\n",
       "  </thead>\n",
       "  <tbody>\n",
       "    <tr>\n",
       "      <th>FBgn0002939</th>\n",
       "      <td>1.65431</td>\n",
       "    </tr>\n",
       "    <tr>\n",
       "      <th>FBgn0003250</th>\n",
       "      <td>-1.38918</td>\n",
       "    </tr>\n",
       "    <tr>\n",
       "      <th>FBgn0015714</th>\n",
       "      <td>-6.6365</td>\n",
       "    </tr>\n",
       "    <tr>\n",
       "      <th>FBgn0019940</th>\n",
       "      <td>2.23879</td>\n",
       "    </tr>\n",
       "    <tr>\n",
       "      <th>FBgn0021738</th>\n",
       "      <td>-7.59033</td>\n",
       "    </tr>\n",
       "  </tbody>\n",
       "</table>\n",
       "</div>"
      ],
      "text/plain": [
       "            GW_log2FC_TRM9L\n",
       "ID                         \n",
       "FBgn0002939         1.65431\n",
       "FBgn0003250        -1.38918\n",
       "FBgn0015714         -6.6365\n",
       "FBgn0019940         2.23879\n",
       "FBgn0021738        -7.59033"
      ]
     },
     "execution_count": 54,
     "metadata": {},
     "output_type": "execute_result"
    }
   ],
   "source": [
    "# Drop unnecessary columns (just need the id and log2FC for Genewiz).\n",
    "genewiz_log2fc_trm9l = merged_TRM9L.drop(['gene_name','OCG_log2FC_TRM9L'], axis=1)\n",
    "genewiz_log2fc_trm9l = genewiz_log2fc_trm9l.set_index('id')\n",
    "genewiz_log2fc_trm9l.index.rename('ID', inplace=True)\n",
    "\n",
    "genewiz_log2fc_trm9l.head()"
   ]
  },
  {
   "cell_type": "code",
   "execution_count": 55,
   "metadata": {},
   "outputs": [
    {
     "data": {
      "text/html": [
       "<div>\n",
       "<style scoped>\n",
       "    .dataframe tbody tr th:only-of-type {\n",
       "        vertical-align: middle;\n",
       "    }\n",
       "\n",
       "    .dataframe tbody tr th {\n",
       "        vertical-align: top;\n",
       "    }\n",
       "\n",
       "    .dataframe thead th {\n",
       "        text-align: right;\n",
       "    }\n",
       "</style>\n",
       "<table border=\"1\" class=\"dataframe\">\n",
       "  <thead>\n",
       "    <tr style=\"text-align: right;\">\n",
       "      <th></th>\n",
       "      <th>ID</th>\n",
       "      <th>GW_log2FC_TRM9L</th>\n",
       "      <th>log2FoldChange</th>\n",
       "    </tr>\n",
       "  </thead>\n",
       "  <tbody>\n",
       "    <tr>\n",
       "      <th>0</th>\n",
       "      <td>FBgn0002939</td>\n",
       "      <td>1.65431</td>\n",
       "      <td>1.646287</td>\n",
       "    </tr>\n",
       "    <tr>\n",
       "      <th>1</th>\n",
       "      <td>FBgn0003250</td>\n",
       "      <td>-1.38918</td>\n",
       "      <td>-1.459741</td>\n",
       "    </tr>\n",
       "    <tr>\n",
       "      <th>2</th>\n",
       "      <td>FBgn0015714</td>\n",
       "      <td>-6.6365</td>\n",
       "      <td>-9.494595</td>\n",
       "    </tr>\n",
       "    <tr>\n",
       "      <th>3</th>\n",
       "      <td>FBgn0019940</td>\n",
       "      <td>2.23879</td>\n",
       "      <td>2.290028</td>\n",
       "    </tr>\n",
       "    <tr>\n",
       "      <th>4</th>\n",
       "      <td>FBgn0021738</td>\n",
       "      <td>-7.59033</td>\n",
       "      <td>-7.469869</td>\n",
       "    </tr>\n",
       "  </tbody>\n",
       "</table>\n",
       "</div>"
      ],
      "text/plain": [
       "            ID GW_log2FC_TRM9L  log2FoldChange\n",
       "0  FBgn0002939         1.65431        1.646287\n",
       "1  FBgn0003250        -1.38918       -1.459741\n",
       "2  FBgn0015714         -6.6365       -9.494595\n",
       "3  FBgn0019940         2.23879        2.290028\n",
       "4  FBgn0021738        -7.59033       -7.469869"
      ]
     },
     "execution_count": 55,
     "metadata": {},
     "output_type": "execute_result"
    }
   ],
   "source": [
    "# Merge the two dataframes.\n",
    "deseq2_gw_trm9l = genewiz_log2fc_trm9l.merge(deseq_crisprtrm9l, how='inner', on='ID')\n",
    "\n",
    "deseq2_gw_trm9l.head()"
   ]
  },
  {
   "cell_type": "code",
   "execution_count": 56,
   "metadata": {
    "scrolled": false
   },
   "outputs": [
    {
     "data": {
      "text/html": [
       "<div>\n",
       "<style scoped>\n",
       "    .dataframe tbody tr th:only-of-type {\n",
       "        vertical-align: middle;\n",
       "    }\n",
       "\n",
       "    .dataframe tbody tr th {\n",
       "        vertical-align: top;\n",
       "    }\n",
       "\n",
       "    .dataframe thead th {\n",
       "        text-align: right;\n",
       "    }\n",
       "</style>\n",
       "<table border=\"1\" class=\"dataframe\">\n",
       "  <thead>\n",
       "    <tr style=\"text-align: right;\">\n",
       "      <th></th>\n",
       "      <th>ID</th>\n",
       "      <th>GW_log2FC</th>\n",
       "      <th>DESeq2_log2FC</th>\n",
       "    </tr>\n",
       "  </thead>\n",
       "  <tbody>\n",
       "    <tr>\n",
       "      <th>0</th>\n",
       "      <td>FBgn0002939</td>\n",
       "      <td>1.65431</td>\n",
       "      <td>1.646287</td>\n",
       "    </tr>\n",
       "    <tr>\n",
       "      <th>1</th>\n",
       "      <td>FBgn0003250</td>\n",
       "      <td>-1.38918</td>\n",
       "      <td>-1.459741</td>\n",
       "    </tr>\n",
       "    <tr>\n",
       "      <th>2</th>\n",
       "      <td>FBgn0015714</td>\n",
       "      <td>-6.6365</td>\n",
       "      <td>-9.494595</td>\n",
       "    </tr>\n",
       "    <tr>\n",
       "      <th>3</th>\n",
       "      <td>FBgn0019940</td>\n",
       "      <td>2.23879</td>\n",
       "      <td>2.290028</td>\n",
       "    </tr>\n",
       "    <tr>\n",
       "      <th>4</th>\n",
       "      <td>FBgn0021738</td>\n",
       "      <td>-7.59033</td>\n",
       "      <td>-7.469869</td>\n",
       "    </tr>\n",
       "    <tr>\n",
       "      <th>5</th>\n",
       "      <td>FBgn0029833</td>\n",
       "      <td>-1.61555</td>\n",
       "      <td>-1.736792</td>\n",
       "    </tr>\n",
       "    <tr>\n",
       "      <th>6</th>\n",
       "      <td>FBgn0030163</td>\n",
       "      <td>1.17331</td>\n",
       "      <td>1.158310</td>\n",
       "    </tr>\n",
       "    <tr>\n",
       "      <th>7</th>\n",
       "      <td>FBgn0030332</td>\n",
       "      <td>2.0403</td>\n",
       "      <td>1.780062</td>\n",
       "    </tr>\n",
       "    <tr>\n",
       "      <th>8</th>\n",
       "      <td>FBgn0030830</td>\n",
       "      <td>-1.84926</td>\n",
       "      <td>-1.711060</td>\n",
       "    </tr>\n",
       "    <tr>\n",
       "      <th>9</th>\n",
       "      <td>FBgn0031435</td>\n",
       "      <td>-1.6631</td>\n",
       "      <td>-1.768981</td>\n",
       "    </tr>\n",
       "    <tr>\n",
       "      <th>10</th>\n",
       "      <td>FBgn0033395</td>\n",
       "      <td>5.87752</td>\n",
       "      <td>7.258575</td>\n",
       "    </tr>\n",
       "    <tr>\n",
       "      <th>11</th>\n",
       "      <td>FBgn0033980</td>\n",
       "      <td>2.89025</td>\n",
       "      <td>2.823979</td>\n",
       "    </tr>\n",
       "    <tr>\n",
       "      <th>12</th>\n",
       "      <td>FBgn0034076</td>\n",
       "      <td>-1.53709</td>\n",
       "      <td>-1.591830</td>\n",
       "    </tr>\n",
       "    <tr>\n",
       "      <th>13</th>\n",
       "      <td>FBgn0034128</td>\n",
       "      <td>2.54668</td>\n",
       "      <td>2.579756</td>\n",
       "    </tr>\n",
       "    <tr>\n",
       "      <th>14</th>\n",
       "      <td>FBgn0034166</td>\n",
       "      <td>2.01836</td>\n",
       "      <td>2.177756</td>\n",
       "    </tr>\n",
       "    <tr>\n",
       "      <th>15</th>\n",
       "      <td>FBgn0034756</td>\n",
       "      <td>-2.67105</td>\n",
       "      <td>-3.434699</td>\n",
       "    </tr>\n",
       "    <tr>\n",
       "      <th>16</th>\n",
       "      <td>FBgn0035434</td>\n",
       "      <td>-2.28234</td>\n",
       "      <td>-2.346379</td>\n",
       "    </tr>\n",
       "    <tr>\n",
       "      <th>17</th>\n",
       "      <td>FBgn0035766</td>\n",
       "      <td>1.39357</td>\n",
       "      <td>1.071192</td>\n",
       "    </tr>\n",
       "    <tr>\n",
       "      <th>18</th>\n",
       "      <td>FBgn0036815</td>\n",
       "      <td>-1.99851</td>\n",
       "      <td>-1.816394</td>\n",
       "    </tr>\n",
       "    <tr>\n",
       "      <th>19</th>\n",
       "      <td>FBgn0037166</td>\n",
       "      <td>-1.18898</td>\n",
       "      <td>-1.205255</td>\n",
       "    </tr>\n",
       "    <tr>\n",
       "      <th>20</th>\n",
       "      <td>FBgn0037930</td>\n",
       "      <td>-2.74784</td>\n",
       "      <td>-2.941394</td>\n",
       "    </tr>\n",
       "    <tr>\n",
       "      <th>21</th>\n",
       "      <td>FBgn0037974</td>\n",
       "      <td>4.28054</td>\n",
       "      <td>3.877289</td>\n",
       "    </tr>\n",
       "    <tr>\n",
       "      <th>22</th>\n",
       "      <td>FBgn0038079</td>\n",
       "      <td>-2.9066</td>\n",
       "      <td>-3.217437</td>\n",
       "    </tr>\n",
       "    <tr>\n",
       "      <th>23</th>\n",
       "      <td>FBgn0038160</td>\n",
       "      <td>-3.58213</td>\n",
       "      <td>-3.678174</td>\n",
       "    </tr>\n",
       "    <tr>\n",
       "      <th>24</th>\n",
       "      <td>FBgn0038343</td>\n",
       "      <td>-1.0972</td>\n",
       "      <td>-1.177738</td>\n",
       "    </tr>\n",
       "    <tr>\n",
       "      <th>25</th>\n",
       "      <td>FBgn0038525</td>\n",
       "      <td>-3.45162</td>\n",
       "      <td>-3.232236</td>\n",
       "    </tr>\n",
       "    <tr>\n",
       "      <th>26</th>\n",
       "      <td>FBgn0039459</td>\n",
       "      <td>2.8457</td>\n",
       "      <td>2.699280</td>\n",
       "    </tr>\n",
       "    <tr>\n",
       "      <th>27</th>\n",
       "      <td>FBgn0039485</td>\n",
       "      <td>-1.52684</td>\n",
       "      <td>-1.625244</td>\n",
       "    </tr>\n",
       "    <tr>\n",
       "      <th>28</th>\n",
       "      <td>FBgn0039684</td>\n",
       "      <td>2.83742</td>\n",
       "      <td>3.631285</td>\n",
       "    </tr>\n",
       "    <tr>\n",
       "      <th>29</th>\n",
       "      <td>FBgn0041780</td>\n",
       "      <td>2.35776</td>\n",
       "      <td>2.823299</td>\n",
       "    </tr>\n",
       "    <tr>\n",
       "      <th>30</th>\n",
       "      <td>FBgn0043791</td>\n",
       "      <td>1.55275</td>\n",
       "      <td>1.653793</td>\n",
       "    </tr>\n",
       "    <tr>\n",
       "      <th>31</th>\n",
       "      <td>FBgn0051219</td>\n",
       "      <td>6.82884</td>\n",
       "      <td>6.860620</td>\n",
       "    </tr>\n",
       "    <tr>\n",
       "      <th>32</th>\n",
       "      <td>FBgn0051955</td>\n",
       "      <td>-1.32712</td>\n",
       "      <td>-1.280019</td>\n",
       "    </tr>\n",
       "    <tr>\n",
       "      <th>33</th>\n",
       "      <td>FBgn0052282</td>\n",
       "      <td>-1.62698</td>\n",
       "      <td>-1.909959</td>\n",
       "    </tr>\n",
       "    <tr>\n",
       "      <th>34</th>\n",
       "      <td>FBgn0052523</td>\n",
       "      <td>-5.46314</td>\n",
       "      <td>-5.677118</td>\n",
       "    </tr>\n",
       "    <tr>\n",
       "      <th>35</th>\n",
       "      <td>FBgn0062928</td>\n",
       "      <td>-3.10664</td>\n",
       "      <td>-3.274279</td>\n",
       "    </tr>\n",
       "    <tr>\n",
       "      <th>36</th>\n",
       "      <td>FBgn0085237</td>\n",
       "      <td>-3.26058</td>\n",
       "      <td>-3.581225</td>\n",
       "    </tr>\n",
       "    <tr>\n",
       "      <th>37</th>\n",
       "      <td>FBgn0261292</td>\n",
       "      <td>-4.85481</td>\n",
       "      <td>-3.922815</td>\n",
       "    </tr>\n",
       "  </tbody>\n",
       "</table>\n",
       "</div>"
      ],
      "text/plain": [
       "             ID GW_log2FC  DESeq2_log2FC\n",
       "0   FBgn0002939   1.65431       1.646287\n",
       "1   FBgn0003250  -1.38918      -1.459741\n",
       "2   FBgn0015714   -6.6365      -9.494595\n",
       "3   FBgn0019940   2.23879       2.290028\n",
       "4   FBgn0021738  -7.59033      -7.469869\n",
       "5   FBgn0029833  -1.61555      -1.736792\n",
       "6   FBgn0030163   1.17331       1.158310\n",
       "7   FBgn0030332    2.0403       1.780062\n",
       "8   FBgn0030830  -1.84926      -1.711060\n",
       "9   FBgn0031435   -1.6631      -1.768981\n",
       "10  FBgn0033395   5.87752       7.258575\n",
       "11  FBgn0033980   2.89025       2.823979\n",
       "12  FBgn0034076  -1.53709      -1.591830\n",
       "13  FBgn0034128   2.54668       2.579756\n",
       "14  FBgn0034166   2.01836       2.177756\n",
       "15  FBgn0034756  -2.67105      -3.434699\n",
       "16  FBgn0035434  -2.28234      -2.346379\n",
       "17  FBgn0035766   1.39357       1.071192\n",
       "18  FBgn0036815  -1.99851      -1.816394\n",
       "19  FBgn0037166  -1.18898      -1.205255\n",
       "20  FBgn0037930  -2.74784      -2.941394\n",
       "21  FBgn0037974   4.28054       3.877289\n",
       "22  FBgn0038079   -2.9066      -3.217437\n",
       "23  FBgn0038160  -3.58213      -3.678174\n",
       "24  FBgn0038343   -1.0972      -1.177738\n",
       "25  FBgn0038525  -3.45162      -3.232236\n",
       "26  FBgn0039459    2.8457       2.699280\n",
       "27  FBgn0039485  -1.52684      -1.625244\n",
       "28  FBgn0039684   2.83742       3.631285\n",
       "29  FBgn0041780   2.35776       2.823299\n",
       "30  FBgn0043791   1.55275       1.653793\n",
       "31  FBgn0051219   6.82884       6.860620\n",
       "32  FBgn0051955  -1.32712      -1.280019\n",
       "33  FBgn0052282  -1.62698      -1.909959\n",
       "34  FBgn0052523  -5.46314      -5.677118\n",
       "35  FBgn0062928  -3.10664      -3.274279\n",
       "36  FBgn0085237  -3.26058      -3.581225\n",
       "37  FBgn0261292  -4.85481      -3.922815"
      ]
     },
     "execution_count": 56,
     "metadata": {},
     "output_type": "execute_result"
    }
   ],
   "source": [
    "# Rename columns and display resulting df.\n",
    "deseq2_gw_trm9l = deseq2_gw_trm9l.rename({'GW_log2FC_TRM9L':'GW_log2FC', 'log2FoldChange': 'DESeq2_log2FC'}, axis=1)\n",
    "deseq2_gw_trm9l"
   ]
  },
  {
   "cell_type": "code",
   "execution_count": 108,
   "metadata": {},
   "outputs": [],
   "source": [
    "# Change type to float \n",
    "deseq2_gw_trm9l['GW_log2FC'] = deseq2_gw_trm9l['GW_log2FC'].astype('float64')\n",
    "deseq2_gw_trm9l['DESeq2_log2FC'] = deseq2_gw_trm9l['DESeq2_log2FC'].astype('float64')"
   ]
  },
  {
   "cell_type": "code",
   "execution_count": 57,
   "metadata": {},
   "outputs": [
    {
     "data": {
      "text/plain": [
       "0.9878580900200895"
      ]
     },
     "execution_count": 57,
     "metadata": {},
     "output_type": "execute_result"
    }
   ],
   "source": [
    "deseq2_gw_trm9l['GW_log2FC'].astype('float64').corr(deseq2_gw_trm9l['DESeq2_log2FC'].astype('float64'))"
   ]
  },
  {
   "cell_type": "code",
   "execution_count": 109,
   "metadata": {
    "scrolled": true
   },
   "outputs": [
    {
     "data": {
      "text/plain": [
       "<seaborn.axisgrid.FacetGrid at 0x7f8e93475050>"
      ]
     },
     "execution_count": 109,
     "metadata": {},
     "output_type": "execute_result"
    },
    {
     "data": {
      "image/png": "[encoded data removed]",
      "text/plain": [
       "<Figure size 360x360 with 1 Axes>"
      ]
     },
     "metadata": {
      "needs_background": "light"
     },
     "output_type": "display_data"
    }
   ],
   "source": [
    "sns.lmplot(x='GW_log2FC', y='DESeq2_log2FC',\n",
    "               palette='pastel', data=deseq2_gw_trm9l)"
   ]
  },
  {
   "cell_type": "markdown",
   "metadata": {},
   "source": [
    "### Working with W1118 v. CRISPRTRM9L (sans W1118_Rep1)"
   ]
  },
  {
   "cell_type": "code",
   "execution_count": 85,
   "metadata": {},
   "outputs": [],
   "source": [
    "deseq_crisprtrm9l_sans = pd.read_csv(\"/Users/MOON/Documents/summer_utra_2020/CRISPR8500_TRM9L/DESeq2_CRISPRTRM9L_w1118/log2fc_deseq_TRM9L_sansW1118rep1.csv\")"
   ]
  },
  {
   "cell_type": "code",
   "execution_count": 86,
   "metadata": {},
   "outputs": [
    {
     "data": {
      "text/html": [
       "<div>\n",
       "<style scoped>\n",
       "    .dataframe tbody tr th:only-of-type {\n",
       "        vertical-align: middle;\n",
       "    }\n",
       "\n",
       "    .dataframe tbody tr th {\n",
       "        vertical-align: top;\n",
       "    }\n",
       "\n",
       "    .dataframe thead th {\n",
       "        text-align: right;\n",
       "    }\n",
       "</style>\n",
       "<table border=\"1\" class=\"dataframe\">\n",
       "  <thead>\n",
       "    <tr style=\"text-align: right;\">\n",
       "      <th></th>\n",
       "      <th>Unnamed: 0</th>\n",
       "      <th>ID</th>\n",
       "      <th>log2FoldChange</th>\n",
       "    </tr>\n",
       "  </thead>\n",
       "  <tbody>\n",
       "    <tr>\n",
       "      <th>0</th>\n",
       "      <td>FBgn0000003</td>\n",
       "      <td>FBgn0000003</td>\n",
       "      <td>NaN</td>\n",
       "    </tr>\n",
       "    <tr>\n",
       "      <th>1</th>\n",
       "      <td>FBgn0000008</td>\n",
       "      <td>FBgn0000008</td>\n",
       "      <td>-0.275407</td>\n",
       "    </tr>\n",
       "    <tr>\n",
       "      <th>2</th>\n",
       "      <td>FBgn0000014</td>\n",
       "      <td>FBgn0000014</td>\n",
       "      <td>1.442939</td>\n",
       "    </tr>\n",
       "    <tr>\n",
       "      <th>3</th>\n",
       "      <td>FBgn0000015</td>\n",
       "      <td>FBgn0000015</td>\n",
       "      <td>2.848556</td>\n",
       "    </tr>\n",
       "    <tr>\n",
       "      <th>4</th>\n",
       "      <td>FBgn0000017</td>\n",
       "      <td>FBgn0000017</td>\n",
       "      <td>0.280193</td>\n",
       "    </tr>\n",
       "  </tbody>\n",
       "</table>\n",
       "</div>"
      ],
      "text/plain": [
       "    Unnamed: 0           ID  log2FoldChange\n",
       "0  FBgn0000003  FBgn0000003             NaN\n",
       "1  FBgn0000008  FBgn0000008       -0.275407\n",
       "2  FBgn0000014  FBgn0000014        1.442939\n",
       "3  FBgn0000015  FBgn0000015        2.848556\n",
       "4  FBgn0000017  FBgn0000017        0.280193"
      ]
     },
     "execution_count": 86,
     "metadata": {},
     "output_type": "execute_result"
    }
   ],
   "source": [
    "deseq_crisprtrm9l_sans.head()"
   ]
  },
  {
   "cell_type": "code",
   "execution_count": 87,
   "metadata": {},
   "outputs": [
    {
     "data": {
      "text/html": [
       "<div>\n",
       "<style scoped>\n",
       "    .dataframe tbody tr th:only-of-type {\n",
       "        vertical-align: middle;\n",
       "    }\n",
       "\n",
       "    .dataframe tbody tr th {\n",
       "        vertical-align: top;\n",
       "    }\n",
       "\n",
       "    .dataframe thead th {\n",
       "        text-align: right;\n",
       "    }\n",
       "</style>\n",
       "<table border=\"1\" class=\"dataframe\">\n",
       "  <thead>\n",
       "    <tr style=\"text-align: right;\">\n",
       "      <th></th>\n",
       "      <th>ID</th>\n",
       "      <th>log2FoldChange</th>\n",
       "    </tr>\n",
       "  </thead>\n",
       "  <tbody>\n",
       "    <tr>\n",
       "      <th>0</th>\n",
       "      <td>FBgn0000003</td>\n",
       "      <td>NaN</td>\n",
       "    </tr>\n",
       "    <tr>\n",
       "      <th>1</th>\n",
       "      <td>FBgn0000008</td>\n",
       "      <td>-0.275407</td>\n",
       "    </tr>\n",
       "    <tr>\n",
       "      <th>2</th>\n",
       "      <td>FBgn0000014</td>\n",
       "      <td>1.442939</td>\n",
       "    </tr>\n",
       "    <tr>\n",
       "      <th>3</th>\n",
       "      <td>FBgn0000015</td>\n",
       "      <td>2.848556</td>\n",
       "    </tr>\n",
       "    <tr>\n",
       "      <th>4</th>\n",
       "      <td>FBgn0000017</td>\n",
       "      <td>0.280193</td>\n",
       "    </tr>\n",
       "  </tbody>\n",
       "</table>\n",
       "</div>"
      ],
      "text/plain": [
       "            ID  log2FoldChange\n",
       "0  FBgn0000003             NaN\n",
       "1  FBgn0000008       -0.275407\n",
       "2  FBgn0000014        1.442939\n",
       "3  FBgn0000015        2.848556\n",
       "4  FBgn0000017        0.280193"
      ]
     },
     "execution_count": 87,
     "metadata": {},
     "output_type": "execute_result"
    }
   ],
   "source": [
    "deseq_crisprtrm9l_sans = deseq_crisprtrm9l_sans.drop('Unnamed: 0', axis=1)\n",
    "deseq_crisprtrm9l_sans.head()"
   ]
  },
  {
   "cell_type": "code",
   "execution_count": 88,
   "metadata": {},
   "outputs": [
    {
     "data": {
      "text/html": [
       "<div>\n",
       "<style scoped>\n",
       "    .dataframe tbody tr th:only-of-type {\n",
       "        vertical-align: middle;\n",
       "    }\n",
       "\n",
       "    .dataframe tbody tr th {\n",
       "        vertical-align: top;\n",
       "    }\n",
       "\n",
       "    .dataframe thead th {\n",
       "        text-align: right;\n",
       "    }\n",
       "</style>\n",
       "<table border=\"1\" class=\"dataframe\">\n",
       "  <thead>\n",
       "    <tr style=\"text-align: right;\">\n",
       "      <th></th>\n",
       "      <th>ID</th>\n",
       "      <th>GW_log2FC_TRM9L</th>\n",
       "      <th>log2FoldChange</th>\n",
       "    </tr>\n",
       "  </thead>\n",
       "  <tbody>\n",
       "    <tr>\n",
       "      <th>0</th>\n",
       "      <td>FBgn0002939</td>\n",
       "      <td>1.65431</td>\n",
       "      <td>1.268647</td>\n",
       "    </tr>\n",
       "    <tr>\n",
       "      <th>1</th>\n",
       "      <td>FBgn0003250</td>\n",
       "      <td>-1.38918</td>\n",
       "      <td>-1.277808</td>\n",
       "    </tr>\n",
       "    <tr>\n",
       "      <th>2</th>\n",
       "      <td>FBgn0015714</td>\n",
       "      <td>-6.6365</td>\n",
       "      <td>-9.791497</td>\n",
       "    </tr>\n",
       "    <tr>\n",
       "      <th>3</th>\n",
       "      <td>FBgn0019940</td>\n",
       "      <td>2.23879</td>\n",
       "      <td>2.580433</td>\n",
       "    </tr>\n",
       "    <tr>\n",
       "      <th>4</th>\n",
       "      <td>FBgn0021738</td>\n",
       "      <td>-7.59033</td>\n",
       "      <td>-7.469752</td>\n",
       "    </tr>\n",
       "  </tbody>\n",
       "</table>\n",
       "</div>"
      ],
      "text/plain": [
       "            ID GW_log2FC_TRM9L  log2FoldChange\n",
       "0  FBgn0002939         1.65431        1.268647\n",
       "1  FBgn0003250        -1.38918       -1.277808\n",
       "2  FBgn0015714         -6.6365       -9.791497\n",
       "3  FBgn0019940         2.23879        2.580433\n",
       "4  FBgn0021738        -7.59033       -7.469752"
      ]
     },
     "execution_count": 88,
     "metadata": {},
     "output_type": "execute_result"
    }
   ],
   "source": [
    "# Merge the two dataframes.\n",
    "deseq2_gw_trm9l_sans = genewiz_log2fc_trm9l.merge(deseq_crisprtrm9l_sans, how='inner', on='ID')\n",
    "\n",
    "deseq2_gw_trm9l_sans.head()"
   ]
  },
  {
   "cell_type": "code",
   "execution_count": 89,
   "metadata": {},
   "outputs": [
    {
     "data": {
      "text/html": [
       "<div>\n",
       "<style scoped>\n",
       "    .dataframe tbody tr th:only-of-type {\n",
       "        vertical-align: middle;\n",
       "    }\n",
       "\n",
       "    .dataframe tbody tr th {\n",
       "        vertical-align: top;\n",
       "    }\n",
       "\n",
       "    .dataframe thead th {\n",
       "        text-align: right;\n",
       "    }\n",
       "</style>\n",
       "<table border=\"1\" class=\"dataframe\">\n",
       "  <thead>\n",
       "    <tr style=\"text-align: right;\">\n",
       "      <th></th>\n",
       "      <th>ID</th>\n",
       "      <th>GW_log2FC</th>\n",
       "      <th>DESeq2_log2FC</th>\n",
       "    </tr>\n",
       "  </thead>\n",
       "  <tbody>\n",
       "    <tr>\n",
       "      <th>0</th>\n",
       "      <td>FBgn0002939</td>\n",
       "      <td>1.65431</td>\n",
       "      <td>1.268647</td>\n",
       "    </tr>\n",
       "    <tr>\n",
       "      <th>1</th>\n",
       "      <td>FBgn0003250</td>\n",
       "      <td>-1.38918</td>\n",
       "      <td>-1.277808</td>\n",
       "    </tr>\n",
       "    <tr>\n",
       "      <th>2</th>\n",
       "      <td>FBgn0015714</td>\n",
       "      <td>-6.6365</td>\n",
       "      <td>-9.791497</td>\n",
       "    </tr>\n",
       "    <tr>\n",
       "      <th>3</th>\n",
       "      <td>FBgn0019940</td>\n",
       "      <td>2.23879</td>\n",
       "      <td>2.580433</td>\n",
       "    </tr>\n",
       "    <tr>\n",
       "      <th>4</th>\n",
       "      <td>FBgn0021738</td>\n",
       "      <td>-7.59033</td>\n",
       "      <td>-7.469752</td>\n",
       "    </tr>\n",
       "    <tr>\n",
       "      <th>5</th>\n",
       "      <td>FBgn0029833</td>\n",
       "      <td>-1.61555</td>\n",
       "      <td>-1.405366</td>\n",
       "    </tr>\n",
       "    <tr>\n",
       "      <th>6</th>\n",
       "      <td>FBgn0030163</td>\n",
       "      <td>1.17331</td>\n",
       "      <td>0.918828</td>\n",
       "    </tr>\n",
       "    <tr>\n",
       "      <th>7</th>\n",
       "      <td>FBgn0030332</td>\n",
       "      <td>2.0403</td>\n",
       "      <td>1.859634</td>\n",
       "    </tr>\n",
       "    <tr>\n",
       "      <th>8</th>\n",
       "      <td>FBgn0030830</td>\n",
       "      <td>-1.84926</td>\n",
       "      <td>-1.971642</td>\n",
       "    </tr>\n",
       "    <tr>\n",
       "      <th>9</th>\n",
       "      <td>FBgn0031435</td>\n",
       "      <td>-1.6631</td>\n",
       "      <td>-1.372591</td>\n",
       "    </tr>\n",
       "    <tr>\n",
       "      <th>10</th>\n",
       "      <td>FBgn0033395</td>\n",
       "      <td>5.87752</td>\n",
       "      <td>8.311134</td>\n",
       "    </tr>\n",
       "    <tr>\n",
       "      <th>11</th>\n",
       "      <td>FBgn0033980</td>\n",
       "      <td>2.89025</td>\n",
       "      <td>2.569995</td>\n",
       "    </tr>\n",
       "    <tr>\n",
       "      <th>12</th>\n",
       "      <td>FBgn0034076</td>\n",
       "      <td>-1.53709</td>\n",
       "      <td>-1.810297</td>\n",
       "    </tr>\n",
       "    <tr>\n",
       "      <th>13</th>\n",
       "      <td>FBgn0034128</td>\n",
       "      <td>2.54668</td>\n",
       "      <td>2.386499</td>\n",
       "    </tr>\n",
       "    <tr>\n",
       "      <th>14</th>\n",
       "      <td>FBgn0034166</td>\n",
       "      <td>2.01836</td>\n",
       "      <td>2.430050</td>\n",
       "    </tr>\n",
       "    <tr>\n",
       "      <th>15</th>\n",
       "      <td>FBgn0034756</td>\n",
       "      <td>-2.67105</td>\n",
       "      <td>-3.397154</td>\n",
       "    </tr>\n",
       "    <tr>\n",
       "      <th>16</th>\n",
       "      <td>FBgn0035434</td>\n",
       "      <td>-2.28234</td>\n",
       "      <td>-2.300070</td>\n",
       "    </tr>\n",
       "    <tr>\n",
       "      <th>17</th>\n",
       "      <td>FBgn0035766</td>\n",
       "      <td>1.39357</td>\n",
       "      <td>1.180530</td>\n",
       "    </tr>\n",
       "    <tr>\n",
       "      <th>18</th>\n",
       "      <td>FBgn0036815</td>\n",
       "      <td>-1.99851</td>\n",
       "      <td>-1.442224</td>\n",
       "    </tr>\n",
       "    <tr>\n",
       "      <th>19</th>\n",
       "      <td>FBgn0037166</td>\n",
       "      <td>-1.18898</td>\n",
       "      <td>-1.198969</td>\n",
       "    </tr>\n",
       "    <tr>\n",
       "      <th>20</th>\n",
       "      <td>FBgn0037930</td>\n",
       "      <td>-2.74784</td>\n",
       "      <td>-2.843880</td>\n",
       "    </tr>\n",
       "    <tr>\n",
       "      <th>21</th>\n",
       "      <td>FBgn0037974</td>\n",
       "      <td>4.28054</td>\n",
       "      <td>4.946114</td>\n",
       "    </tr>\n",
       "    <tr>\n",
       "      <th>22</th>\n",
       "      <td>FBgn0038079</td>\n",
       "      <td>-2.9066</td>\n",
       "      <td>-3.386177</td>\n",
       "    </tr>\n",
       "    <tr>\n",
       "      <th>23</th>\n",
       "      <td>FBgn0038160</td>\n",
       "      <td>-3.58213</td>\n",
       "      <td>-3.809953</td>\n",
       "    </tr>\n",
       "    <tr>\n",
       "      <th>24</th>\n",
       "      <td>FBgn0038343</td>\n",
       "      <td>-1.0972</td>\n",
       "      <td>-0.963524</td>\n",
       "    </tr>\n",
       "    <tr>\n",
       "      <th>25</th>\n",
       "      <td>FBgn0038525</td>\n",
       "      <td>-3.45162</td>\n",
       "      <td>-3.409209</td>\n",
       "    </tr>\n",
       "    <tr>\n",
       "      <th>26</th>\n",
       "      <td>FBgn0039459</td>\n",
       "      <td>2.8457</td>\n",
       "      <td>3.657871</td>\n",
       "    </tr>\n",
       "    <tr>\n",
       "      <th>27</th>\n",
       "      <td>FBgn0039485</td>\n",
       "      <td>-1.52684</td>\n",
       "      <td>-1.566919</td>\n",
       "    </tr>\n",
       "    <tr>\n",
       "      <th>28</th>\n",
       "      <td>FBgn0039684</td>\n",
       "      <td>2.83742</td>\n",
       "      <td>3.944802</td>\n",
       "    </tr>\n",
       "    <tr>\n",
       "      <th>29</th>\n",
       "      <td>FBgn0041780</td>\n",
       "      <td>2.35776</td>\n",
       "      <td>3.197205</td>\n",
       "    </tr>\n",
       "    <tr>\n",
       "      <th>30</th>\n",
       "      <td>FBgn0043791</td>\n",
       "      <td>1.55275</td>\n",
       "      <td>1.490285</td>\n",
       "    </tr>\n",
       "    <tr>\n",
       "      <th>31</th>\n",
       "      <td>FBgn0051219</td>\n",
       "      <td>6.82884</td>\n",
       "      <td>7.057487</td>\n",
       "    </tr>\n",
       "    <tr>\n",
       "      <th>32</th>\n",
       "      <td>FBgn0051955</td>\n",
       "      <td>-1.32712</td>\n",
       "      <td>-1.459230</td>\n",
       "    </tr>\n",
       "    <tr>\n",
       "      <th>33</th>\n",
       "      <td>FBgn0052282</td>\n",
       "      <td>-1.62698</td>\n",
       "      <td>-1.600997</td>\n",
       "    </tr>\n",
       "    <tr>\n",
       "      <th>34</th>\n",
       "      <td>FBgn0052523</td>\n",
       "      <td>-5.46314</td>\n",
       "      <td>-5.287415</td>\n",
       "    </tr>\n",
       "    <tr>\n",
       "      <th>35</th>\n",
       "      <td>FBgn0062928</td>\n",
       "      <td>-3.10664</td>\n",
       "      <td>-2.584236</td>\n",
       "    </tr>\n",
       "    <tr>\n",
       "      <th>36</th>\n",
       "      <td>FBgn0085237</td>\n",
       "      <td>-3.26058</td>\n",
       "      <td>-3.771431</td>\n",
       "    </tr>\n",
       "    <tr>\n",
       "      <th>37</th>\n",
       "      <td>FBgn0261292</td>\n",
       "      <td>-4.85481</td>\n",
       "      <td>-4.105642</td>\n",
       "    </tr>\n",
       "  </tbody>\n",
       "</table>\n",
       "</div>"
      ],
      "text/plain": [
       "             ID GW_log2FC  DESeq2_log2FC\n",
       "0   FBgn0002939   1.65431       1.268647\n",
       "1   FBgn0003250  -1.38918      -1.277808\n",
       "2   FBgn0015714   -6.6365      -9.791497\n",
       "3   FBgn0019940   2.23879       2.580433\n",
       "4   FBgn0021738  -7.59033      -7.469752\n",
       "5   FBgn0029833  -1.61555      -1.405366\n",
       "6   FBgn0030163   1.17331       0.918828\n",
       "7   FBgn0030332    2.0403       1.859634\n",
       "8   FBgn0030830  -1.84926      -1.971642\n",
       "9   FBgn0031435   -1.6631      -1.372591\n",
       "10  FBgn0033395   5.87752       8.311134\n",
       "11  FBgn0033980   2.89025       2.569995\n",
       "12  FBgn0034076  -1.53709      -1.810297\n",
       "13  FBgn0034128   2.54668       2.386499\n",
       "14  FBgn0034166   2.01836       2.430050\n",
       "15  FBgn0034756  -2.67105      -3.397154\n",
       "16  FBgn0035434  -2.28234      -2.300070\n",
       "17  FBgn0035766   1.39357       1.180530\n",
       "18  FBgn0036815  -1.99851      -1.442224\n",
       "19  FBgn0037166  -1.18898      -1.198969\n",
       "20  FBgn0037930  -2.74784      -2.843880\n",
       "21  FBgn0037974   4.28054       4.946114\n",
       "22  FBgn0038079   -2.9066      -3.386177\n",
       "23  FBgn0038160  -3.58213      -3.809953\n",
       "24  FBgn0038343   -1.0972      -0.963524\n",
       "25  FBgn0038525  -3.45162      -3.409209\n",
       "26  FBgn0039459    2.8457       3.657871\n",
       "27  FBgn0039485  -1.52684      -1.566919\n",
       "28  FBgn0039684   2.83742       3.944802\n",
       "29  FBgn0041780   2.35776       3.197205\n",
       "30  FBgn0043791   1.55275       1.490285\n",
       "31  FBgn0051219   6.82884       7.057487\n",
       "32  FBgn0051955  -1.32712      -1.459230\n",
       "33  FBgn0052282  -1.62698      -1.600997\n",
       "34  FBgn0052523  -5.46314      -5.287415\n",
       "35  FBgn0062928  -3.10664      -2.584236\n",
       "36  FBgn0085237  -3.26058      -3.771431\n",
       "37  FBgn0261292  -4.85481      -4.105642"
      ]
     },
     "execution_count": 89,
     "metadata": {},
     "output_type": "execute_result"
    }
   ],
   "source": [
    "# Rename columns and display resulting df.\n",
    "deseq2_gw_trm9l_sans = deseq2_gw_trm9l_sans.rename({'GW_log2FC_TRM9L':'GW_log2FC', 'log2FoldChange': 'DESeq2_log2FC'}, axis=1)\n",
    "deseq2_gw_trm9l_sans"
   ]
  },
  {
   "cell_type": "code",
   "execution_count": 90,
   "metadata": {},
   "outputs": [
    {
     "data": {
      "text/plain": [
       "0.9831124272355185"
      ]
     },
     "execution_count": 90,
     "metadata": {},
     "output_type": "execute_result"
    }
   ],
   "source": [
    "deseq2_gw_trm9l_sans['GW_log2FC'].astype('float64').corr(deseq2_gw_trm9l_sans['DESeq2_log2FC'].astype('float64'))"
   ]
  },
  {
   "cell_type": "code",
   "execution_count": 112,
   "metadata": {},
   "outputs": [],
   "source": [
    "# Change type to float \n",
    "deseq2_gw_trm9l_sans['GW_log2FC'] = deseq2_gw_trm9l_sans['GW_log2FC'].astype('float64')\n",
    "deseq2_gw_trm9l_sans['DESeq2_log2FC'] = deseq2_gw_trm9l_sans['DESeq2_log2FC'].astype('float64')"
   ]
  },
  {
   "cell_type": "code",
   "execution_count": 113,
   "metadata": {},
   "outputs": [
    {
     "data": {
      "text/plain": [
       "<seaborn.axisgrid.FacetGrid at 0x7f8e935686d0>"
      ]
     },
     "execution_count": 113,
     "metadata": {},
     "output_type": "execute_result"
    },
    {
     "data": {
      "image/png": "[encoded data removed]",
      "text/plain": [
       "<Figure size 360x360 with 1 Axes>"
      ]
     },
     "metadata": {
      "needs_background": "light"
     },
     "output_type": "display_data"
    }
   ],
   "source": [
    "sns.lmplot(x='GW_log2FC', y='DESeq2_log2FC',\n",
    "               palette='pastel', data=deseq2_gw_trm9l_sans)"
   ]
  },
  {
   "cell_type": "markdown",
   "metadata": {},
   "source": [
    "### Working with W1118 v. CRISPR8500 (with W1118_Rep1)"
   ]
  },
  {
   "cell_type": "code",
   "execution_count": 92,
   "metadata": {},
   "outputs": [],
   "source": [
    "deseq_crispr8500 = pd.read_csv(\"/Users/MOON/Documents/summer_utra_2020/CRISPR8500_TRM9L/DESeq2_CRISPR8500_w1118/log2fc_deseq_8500_w1118.csv\")"
   ]
  },
  {
   "cell_type": "code",
   "execution_count": 93,
   "metadata": {},
   "outputs": [
    {
     "data": {
      "text/html": [
       "<div>\n",
       "<style scoped>\n",
       "    .dataframe tbody tr th:only-of-type {\n",
       "        vertical-align: middle;\n",
       "    }\n",
       "\n",
       "    .dataframe tbody tr th {\n",
       "        vertical-align: top;\n",
       "    }\n",
       "\n",
       "    .dataframe thead th {\n",
       "        text-align: right;\n",
       "    }\n",
       "</style>\n",
       "<table border=\"1\" class=\"dataframe\">\n",
       "  <thead>\n",
       "    <tr style=\"text-align: right;\">\n",
       "      <th></th>\n",
       "      <th>ID</th>\n",
       "      <th>log2FoldChange</th>\n",
       "    </tr>\n",
       "  </thead>\n",
       "  <tbody>\n",
       "    <tr>\n",
       "      <th>0</th>\n",
       "      <td>FBgn0000003</td>\n",
       "      <td>2.273041</td>\n",
       "    </tr>\n",
       "    <tr>\n",
       "      <th>1</th>\n",
       "      <td>FBgn0000008</td>\n",
       "      <td>0.127808</td>\n",
       "    </tr>\n",
       "    <tr>\n",
       "      <th>2</th>\n",
       "      <td>FBgn0000014</td>\n",
       "      <td>0.717724</td>\n",
       "    </tr>\n",
       "    <tr>\n",
       "      <th>3</th>\n",
       "      <td>FBgn0000015</td>\n",
       "      <td>1.373492</td>\n",
       "    </tr>\n",
       "    <tr>\n",
       "      <th>4</th>\n",
       "      <td>FBgn0000017</td>\n",
       "      <td>0.295528</td>\n",
       "    </tr>\n",
       "  </tbody>\n",
       "</table>\n",
       "</div>"
      ],
      "text/plain": [
       "            ID  log2FoldChange\n",
       "0  FBgn0000003        2.273041\n",
       "1  FBgn0000008        0.127808\n",
       "2  FBgn0000014        0.717724\n",
       "3  FBgn0000015        1.373492\n",
       "4  FBgn0000017        0.295528"
      ]
     },
     "execution_count": 93,
     "metadata": {},
     "output_type": "execute_result"
    }
   ],
   "source": [
    "deseq_crispr8500 = deseq_crispr8500.drop('Unnamed: 0', axis=1)\n",
    "deseq_crispr8500.head()"
   ]
  },
  {
   "cell_type": "code",
   "execution_count": 94,
   "metadata": {},
   "outputs": [
    {
     "data": {
      "text/html": [
       "<div>\n",
       "<style scoped>\n",
       "    .dataframe tbody tr th:only-of-type {\n",
       "        vertical-align: middle;\n",
       "    }\n",
       "\n",
       "    .dataframe tbody tr th {\n",
       "        vertical-align: top;\n",
       "    }\n",
       "\n",
       "    .dataframe thead th {\n",
       "        text-align: right;\n",
       "    }\n",
       "</style>\n",
       "<table border=\"1\" class=\"dataframe\">\n",
       "  <thead>\n",
       "    <tr style=\"text-align: right;\">\n",
       "      <th></th>\n",
       "      <th>id</th>\n",
       "      <th>gene_name</th>\n",
       "      <th>OCG_log2FC_CRISPR8500</th>\n",
       "      <th>GW_log2FC_CRISPR8500</th>\n",
       "    </tr>\n",
       "    <tr>\n",
       "      <th>W1118_CRISPR8500</th>\n",
       "      <th></th>\n",
       "      <th></th>\n",
       "      <th></th>\n",
       "      <th></th>\n",
       "    </tr>\n",
       "  </thead>\n",
       "  <tbody>\n",
       "    <tr>\n",
       "      <th>0</th>\n",
       "      <td>FBgn0013277</td>\n",
       "      <td>Hsp70Ba</td>\n",
       "      <td>4.067904</td>\n",
       "      <td>4.44523</td>\n",
       "    </tr>\n",
       "    <tr>\n",
       "      <th>1</th>\n",
       "      <td>FBgn0015714</td>\n",
       "      <td>Cyp6a17</td>\n",
       "      <td>-2.377513</td>\n",
       "      <td>-2.48351</td>\n",
       "    </tr>\n",
       "    <tr>\n",
       "      <th>2</th>\n",
       "      <td>FBgn0019940</td>\n",
       "      <td>Rh6</td>\n",
       "      <td>3.095667</td>\n",
       "      <td>2.84592</td>\n",
       "    </tr>\n",
       "    <tr>\n",
       "      <th>3</th>\n",
       "      <td>FBgn0028396</td>\n",
       "      <td>TotA</td>\n",
       "      <td>2.698532</td>\n",
       "      <td>2.71304</td>\n",
       "    </tr>\n",
       "    <tr>\n",
       "      <th>4</th>\n",
       "      <td>FBgn0030163</td>\n",
       "      <td>CG1791</td>\n",
       "      <td>1.699046</td>\n",
       "      <td>1.51634</td>\n",
       "    </tr>\n",
       "  </tbody>\n",
       "</table>\n",
       "</div>"
      ],
      "text/plain": [
       "                           id gene_name  OCG_log2FC_CRISPR8500  \\\n",
       "W1118_CRISPR8500                                                 \n",
       "0                 FBgn0013277   Hsp70Ba               4.067904   \n",
       "1                 FBgn0015714   Cyp6a17              -2.377513   \n",
       "2                 FBgn0019940       Rh6               3.095667   \n",
       "3                 FBgn0028396      TotA               2.698532   \n",
       "4                 FBgn0030163    CG1791               1.699046   \n",
       "\n",
       "                 GW_log2FC_CRISPR8500  \n",
       "W1118_CRISPR8500                       \n",
       "0                             4.44523  \n",
       "1                            -2.48351  \n",
       "2                             2.84592  \n",
       "3                             2.71304  \n",
       "4                             1.51634  "
      ]
     },
     "execution_count": 94,
     "metadata": {},
     "output_type": "execute_result"
    }
   ],
   "source": [
    "# Reminder: here's what the merged OCG (ran through a different pipeline) and Genewiz dataframe looks like.\n",
    "merged_CRISPR8500.head()"
   ]
  },
  {
   "cell_type": "code",
   "execution_count": 95,
   "metadata": {},
   "outputs": [
    {
     "data": {
      "text/html": [
       "<div>\n",
       "<style scoped>\n",
       "    .dataframe tbody tr th:only-of-type {\n",
       "        vertical-align: middle;\n",
       "    }\n",
       "\n",
       "    .dataframe tbody tr th {\n",
       "        vertical-align: top;\n",
       "    }\n",
       "\n",
       "    .dataframe thead th {\n",
       "        text-align: right;\n",
       "    }\n",
       "</style>\n",
       "<table border=\"1\" class=\"dataframe\">\n",
       "  <thead>\n",
       "    <tr style=\"text-align: right;\">\n",
       "      <th></th>\n",
       "      <th>GW_log2FC_CRISPR8500</th>\n",
       "    </tr>\n",
       "    <tr>\n",
       "      <th>ID</th>\n",
       "      <th></th>\n",
       "    </tr>\n",
       "  </thead>\n",
       "  <tbody>\n",
       "    <tr>\n",
       "      <th>FBgn0013277</th>\n",
       "      <td>4.44523</td>\n",
       "    </tr>\n",
       "    <tr>\n",
       "      <th>FBgn0015714</th>\n",
       "      <td>-2.48351</td>\n",
       "    </tr>\n",
       "    <tr>\n",
       "      <th>FBgn0019940</th>\n",
       "      <td>2.84592</td>\n",
       "    </tr>\n",
       "    <tr>\n",
       "      <th>FBgn0028396</th>\n",
       "      <td>2.71304</td>\n",
       "    </tr>\n",
       "    <tr>\n",
       "      <th>FBgn0030163</th>\n",
       "      <td>1.51634</td>\n",
       "    </tr>\n",
       "  </tbody>\n",
       "</table>\n",
       "</div>"
      ],
      "text/plain": [
       "            GW_log2FC_CRISPR8500\n",
       "ID                              \n",
       "FBgn0013277              4.44523\n",
       "FBgn0015714             -2.48351\n",
       "FBgn0019940              2.84592\n",
       "FBgn0028396              2.71304\n",
       "FBgn0030163              1.51634"
      ]
     },
     "execution_count": 95,
     "metadata": {},
     "output_type": "execute_result"
    }
   ],
   "source": [
    "# Drop unnecessary columns (just need the id and log2FC for Genewiz).\n",
    "genewiz_log2fc_8500 = merged_CRISPR8500.drop(['gene_name','OCG_log2FC_CRISPR8500'], axis=1)\n",
    "genewiz_log2fc_8500 = genewiz_log2fc_8500.set_index('id')\n",
    "genewiz_log2fc_8500.index.rename('ID', inplace=True)\n",
    "\n",
    "genewiz_log2fc_8500.head()"
   ]
  },
  {
   "cell_type": "code",
   "execution_count": 96,
   "metadata": {},
   "outputs": [
    {
     "data": {
      "text/html": [
       "<div>\n",
       "<style scoped>\n",
       "    .dataframe tbody tr th:only-of-type {\n",
       "        vertical-align: middle;\n",
       "    }\n",
       "\n",
       "    .dataframe tbody tr th {\n",
       "        vertical-align: top;\n",
       "    }\n",
       "\n",
       "    .dataframe thead th {\n",
       "        text-align: right;\n",
       "    }\n",
       "</style>\n",
       "<table border=\"1\" class=\"dataframe\">\n",
       "  <thead>\n",
       "    <tr style=\"text-align: right;\">\n",
       "      <th></th>\n",
       "      <th>ID</th>\n",
       "      <th>GW_log2FC_CRISPR8500</th>\n",
       "      <th>log2FoldChange</th>\n",
       "    </tr>\n",
       "  </thead>\n",
       "  <tbody>\n",
       "    <tr>\n",
       "      <th>0</th>\n",
       "      <td>FBgn0013277</td>\n",
       "      <td>4.44523</td>\n",
       "      <td>3.885061</td>\n",
       "    </tr>\n",
       "    <tr>\n",
       "      <th>1</th>\n",
       "      <td>FBgn0015714</td>\n",
       "      <td>-2.48351</td>\n",
       "      <td>-2.529794</td>\n",
       "    </tr>\n",
       "    <tr>\n",
       "      <th>2</th>\n",
       "      <td>FBgn0019940</td>\n",
       "      <td>2.84592</td>\n",
       "      <td>2.948037</td>\n",
       "    </tr>\n",
       "    <tr>\n",
       "      <th>3</th>\n",
       "      <td>FBgn0028396</td>\n",
       "      <td>2.71304</td>\n",
       "      <td>2.583636</td>\n",
       "    </tr>\n",
       "    <tr>\n",
       "      <th>4</th>\n",
       "      <td>FBgn0030163</td>\n",
       "      <td>1.51634</td>\n",
       "      <td>1.570339</td>\n",
       "    </tr>\n",
       "  </tbody>\n",
       "</table>\n",
       "</div>"
      ],
      "text/plain": [
       "            ID GW_log2FC_CRISPR8500  log2FoldChange\n",
       "0  FBgn0013277              4.44523        3.885061\n",
       "1  FBgn0015714             -2.48351       -2.529794\n",
       "2  FBgn0019940              2.84592        2.948037\n",
       "3  FBgn0028396              2.71304        2.583636\n",
       "4  FBgn0030163              1.51634        1.570339"
      ]
     },
     "execution_count": 96,
     "metadata": {},
     "output_type": "execute_result"
    }
   ],
   "source": [
    "# Merge the two dataframes.\n",
    "deseq2_gw_8500 = genewiz_log2fc_8500.merge(deseq_crispr8500, how='inner', on='ID')\n",
    "\n",
    "deseq2_gw_8500.head()"
   ]
  },
  {
   "cell_type": "code",
   "execution_count": 97,
   "metadata": {
    "scrolled": true
   },
   "outputs": [
    {
     "data": {
      "text/html": [
       "<div>\n",
       "<style scoped>\n",
       "    .dataframe tbody tr th:only-of-type {\n",
       "        vertical-align: middle;\n",
       "    }\n",
       "\n",
       "    .dataframe tbody tr th {\n",
       "        vertical-align: top;\n",
       "    }\n",
       "\n",
       "    .dataframe thead th {\n",
       "        text-align: right;\n",
       "    }\n",
       "</style>\n",
       "<table border=\"1\" class=\"dataframe\">\n",
       "  <thead>\n",
       "    <tr style=\"text-align: right;\">\n",
       "      <th></th>\n",
       "      <th>ID</th>\n",
       "      <th>GW_log2FC</th>\n",
       "      <th>DESeq2_log2FC</th>\n",
       "    </tr>\n",
       "  </thead>\n",
       "  <tbody>\n",
       "    <tr>\n",
       "      <th>0</th>\n",
       "      <td>FBgn0013277</td>\n",
       "      <td>4.44523</td>\n",
       "      <td>3.885061</td>\n",
       "    </tr>\n",
       "    <tr>\n",
       "      <th>1</th>\n",
       "      <td>FBgn0015714</td>\n",
       "      <td>-2.48351</td>\n",
       "      <td>-2.529794</td>\n",
       "    </tr>\n",
       "    <tr>\n",
       "      <th>2</th>\n",
       "      <td>FBgn0019940</td>\n",
       "      <td>2.84592</td>\n",
       "      <td>2.948037</td>\n",
       "    </tr>\n",
       "    <tr>\n",
       "      <th>3</th>\n",
       "      <td>FBgn0028396</td>\n",
       "      <td>2.71304</td>\n",
       "      <td>2.583636</td>\n",
       "    </tr>\n",
       "    <tr>\n",
       "      <th>4</th>\n",
       "      <td>FBgn0030163</td>\n",
       "      <td>1.51634</td>\n",
       "      <td>1.570339</td>\n",
       "    </tr>\n",
       "    <tr>\n",
       "      <th>5</th>\n",
       "      <td>FBgn0030830</td>\n",
       "      <td>-2.61504</td>\n",
       "      <td>-2.512227</td>\n",
       "    </tr>\n",
       "    <tr>\n",
       "      <th>6</th>\n",
       "      <td>FBgn0031435</td>\n",
       "      <td>1.25624</td>\n",
       "      <td>1.206425</td>\n",
       "    </tr>\n",
       "    <tr>\n",
       "      <th>7</th>\n",
       "      <td>FBgn0033395</td>\n",
       "      <td>2.53323</td>\n",
       "      <td>4.002947</td>\n",
       "    </tr>\n",
       "    <tr>\n",
       "      <th>8</th>\n",
       "      <td>FBgn0033980</td>\n",
       "      <td>2.4863</td>\n",
       "      <td>2.432156</td>\n",
       "    </tr>\n",
       "    <tr>\n",
       "      <th>9</th>\n",
       "      <td>FBgn0034128</td>\n",
       "      <td>2.20016</td>\n",
       "      <td>2.238239</td>\n",
       "    </tr>\n",
       "    <tr>\n",
       "      <th>10</th>\n",
       "      <td>FBgn0034166</td>\n",
       "      <td>1.42708</td>\n",
       "      <td>1.524269</td>\n",
       "    </tr>\n",
       "    <tr>\n",
       "      <th>11</th>\n",
       "      <td>FBgn0035434</td>\n",
       "      <td>-1.46442</td>\n",
       "      <td>-1.540844</td>\n",
       "    </tr>\n",
       "    <tr>\n",
       "      <th>12</th>\n",
       "      <td>FBgn0036815</td>\n",
       "      <td>-1.887</td>\n",
       "      <td>-1.777214</td>\n",
       "    </tr>\n",
       "    <tr>\n",
       "      <th>13</th>\n",
       "      <td>FBgn0037930</td>\n",
       "      <td>-2.33787</td>\n",
       "      <td>-2.331713</td>\n",
       "    </tr>\n",
       "    <tr>\n",
       "      <th>14</th>\n",
       "      <td>FBgn0037974</td>\n",
       "      <td>4.4844</td>\n",
       "      <td>4.132131</td>\n",
       "    </tr>\n",
       "    <tr>\n",
       "      <th>15</th>\n",
       "      <td>FBgn0038079</td>\n",
       "      <td>-1.7238</td>\n",
       "      <td>-1.793850</td>\n",
       "    </tr>\n",
       "    <tr>\n",
       "      <th>16</th>\n",
       "      <td>FBgn0038525</td>\n",
       "      <td>-3.11362</td>\n",
       "      <td>-3.031774</td>\n",
       "    </tr>\n",
       "    <tr>\n",
       "      <th>17</th>\n",
       "      <td>FBgn0039485</td>\n",
       "      <td>-1.25856</td>\n",
       "      <td>-1.375223</td>\n",
       "    </tr>\n",
       "    <tr>\n",
       "      <th>18</th>\n",
       "      <td>FBgn0039684</td>\n",
       "      <td>2.34397</td>\n",
       "      <td>3.191982</td>\n",
       "    </tr>\n",
       "    <tr>\n",
       "      <th>19</th>\n",
       "      <td>FBgn0039811</td>\n",
       "      <td>-2.03828</td>\n",
       "      <td>-2.423565</td>\n",
       "    </tr>\n",
       "    <tr>\n",
       "      <th>20</th>\n",
       "      <td>FBgn0043791</td>\n",
       "      <td>2.73318</td>\n",
       "      <td>2.907454</td>\n",
       "    </tr>\n",
       "    <tr>\n",
       "      <th>21</th>\n",
       "      <td>FBgn0051300</td>\n",
       "      <td>2.03699</td>\n",
       "      <td>2.266515</td>\n",
       "    </tr>\n",
       "    <tr>\n",
       "      <th>22</th>\n",
       "      <td>FBgn0051955</td>\n",
       "      <td>-1.14014</td>\n",
       "      <td>-1.276410</td>\n",
       "    </tr>\n",
       "    <tr>\n",
       "      <th>23</th>\n",
       "      <td>FBgn0052523</td>\n",
       "      <td>-5.05918</td>\n",
       "      <td>-5.201886</td>\n",
       "    </tr>\n",
       "    <tr>\n",
       "      <th>24</th>\n",
       "      <td>FBgn0085237</td>\n",
       "      <td>-2.64874</td>\n",
       "      <td>-2.953132</td>\n",
       "    </tr>\n",
       "    <tr>\n",
       "      <th>25</th>\n",
       "      <td>FBgn0261292</td>\n",
       "      <td>-2.33761</td>\n",
       "      <td>-2.275740</td>\n",
       "    </tr>\n",
       "  </tbody>\n",
       "</table>\n",
       "</div>"
      ],
      "text/plain": [
       "             ID GW_log2FC  DESeq2_log2FC\n",
       "0   FBgn0013277   4.44523       3.885061\n",
       "1   FBgn0015714  -2.48351      -2.529794\n",
       "2   FBgn0019940   2.84592       2.948037\n",
       "3   FBgn0028396   2.71304       2.583636\n",
       "4   FBgn0030163   1.51634       1.570339\n",
       "5   FBgn0030830  -2.61504      -2.512227\n",
       "6   FBgn0031435   1.25624       1.206425\n",
       "7   FBgn0033395   2.53323       4.002947\n",
       "8   FBgn0033980    2.4863       2.432156\n",
       "9   FBgn0034128   2.20016       2.238239\n",
       "10  FBgn0034166   1.42708       1.524269\n",
       "11  FBgn0035434  -1.46442      -1.540844\n",
       "12  FBgn0036815    -1.887      -1.777214\n",
       "13  FBgn0037930  -2.33787      -2.331713\n",
       "14  FBgn0037974    4.4844       4.132131\n",
       "15  FBgn0038079   -1.7238      -1.793850\n",
       "16  FBgn0038525  -3.11362      -3.031774\n",
       "17  FBgn0039485  -1.25856      -1.375223\n",
       "18  FBgn0039684   2.34397       3.191982\n",
       "19  FBgn0039811  -2.03828      -2.423565\n",
       "20  FBgn0043791   2.73318       2.907454\n",
       "21  FBgn0051300   2.03699       2.266515\n",
       "22  FBgn0051955  -1.14014      -1.276410\n",
       "23  FBgn0052523  -5.05918      -5.201886\n",
       "24  FBgn0085237  -2.64874      -2.953132\n",
       "25  FBgn0261292  -2.33761      -2.275740"
      ]
     },
     "execution_count": 97,
     "metadata": {},
     "output_type": "execute_result"
    }
   ],
   "source": [
    "# Rename columns and display resulting df.\n",
    "deseq2_gw_8500 = deseq2_gw_8500.rename({'GW_log2FC_CRISPR8500':'GW_log2FC', 'log2FoldChange': 'DESeq2_log2FC'}, axis=1)\n",
    "deseq2_gw_8500"
   ]
  },
  {
   "cell_type": "code",
   "execution_count": 98,
   "metadata": {},
   "outputs": [
    {
     "data": {
      "text/plain": [
       "0.9904143388704089"
      ]
     },
     "execution_count": 98,
     "metadata": {},
     "output_type": "execute_result"
    }
   ],
   "source": [
    "deseq2_gw_8500['GW_log2FC'].astype('float64').corr(deseq2_gw_8500['DESeq2_log2FC'].astype('float64'))"
   ]
  },
  {
   "cell_type": "code",
   "execution_count": 114,
   "metadata": {},
   "outputs": [],
   "source": [
    "# Change type to float \n",
    "deseq2_gw_8500['GW_log2FC'] = deseq2_gw_8500['GW_log2FC'].astype('float64')\n",
    "deseq2_gw_8500['DESeq2_log2FC'] = deseq2_gw_8500['DESeq2_log2FC'].astype('float64')"
   ]
  },
  {
   "cell_type": "code",
   "execution_count": 115,
   "metadata": {},
   "outputs": [
    {
     "data": {
      "text/plain": [
       "<seaborn.axisgrid.FacetGrid at 0x7f8e93b56590>"
      ]
     },
     "execution_count": 115,
     "metadata": {},
     "output_type": "execute_result"
    },
    {
     "data": {
      "image/png": "[encoded data removed]",
      "text/plain": [
       "<Figure size 360x360 with 1 Axes>"
      ]
     },
     "metadata": {
      "needs_background": "light"
     },
     "output_type": "display_data"
    }
   ],
   "source": [
    "sns.lmplot(x='GW_log2FC', y='DESeq2_log2FC',\n",
    "               palette='pastel', data=deseq2_gw_8500)"
   ]
  },
  {
   "cell_type": "markdown",
   "metadata": {},
   "source": [
    "### Working with W1118 v. CRISPR8500 (without W1118_Rep1)"
   ]
  },
  {
   "cell_type": "code",
   "execution_count": 118,
   "metadata": {},
   "outputs": [],
   "source": [
    "deseq_crispr8500_sans = pd.read_csv(\"/Users/MOON/Documents/summer_utra_2020/CRISPR8500_TRM9L/DESeq2_CRISPR8500_w1118/log2fc_deseq_8500_sansW1118rep1.csv\")"
   ]
  },
  {
   "cell_type": "code",
   "execution_count": 119,
   "metadata": {},
   "outputs": [
    {
     "data": {
      "text/html": [
       "<div>\n",
       "<style scoped>\n",
       "    .dataframe tbody tr th:only-of-type {\n",
       "        vertical-align: middle;\n",
       "    }\n",
       "\n",
       "    .dataframe tbody tr th {\n",
       "        vertical-align: top;\n",
       "    }\n",
       "\n",
       "    .dataframe thead th {\n",
       "        text-align: right;\n",
       "    }\n",
       "</style>\n",
       "<table border=\"1\" class=\"dataframe\">\n",
       "  <thead>\n",
       "    <tr style=\"text-align: right;\">\n",
       "      <th></th>\n",
       "      <th>ID</th>\n",
       "      <th>log2FoldChange</th>\n",
       "    </tr>\n",
       "  </thead>\n",
       "  <tbody>\n",
       "    <tr>\n",
       "      <th>0</th>\n",
       "      <td>FBgn0000003</td>\n",
       "      <td>2.333755</td>\n",
       "    </tr>\n",
       "    <tr>\n",
       "      <th>1</th>\n",
       "      <td>FBgn0000008</td>\n",
       "      <td>-0.054263</td>\n",
       "    </tr>\n",
       "    <tr>\n",
       "      <th>2</th>\n",
       "      <td>FBgn0000014</td>\n",
       "      <td>0.981827</td>\n",
       "    </tr>\n",
       "    <tr>\n",
       "      <th>3</th>\n",
       "      <td>FBgn0000015</td>\n",
       "      <td>2.568316</td>\n",
       "    </tr>\n",
       "    <tr>\n",
       "      <th>4</th>\n",
       "      <td>FBgn0000017</td>\n",
       "      <td>0.054371</td>\n",
       "    </tr>\n",
       "  </tbody>\n",
       "</table>\n",
       "</div>"
      ],
      "text/plain": [
       "            ID  log2FoldChange\n",
       "0  FBgn0000003        2.333755\n",
       "1  FBgn0000008       -0.054263\n",
       "2  FBgn0000014        0.981827\n",
       "3  FBgn0000015        2.568316\n",
       "4  FBgn0000017        0.054371"
      ]
     },
     "execution_count": 119,
     "metadata": {},
     "output_type": "execute_result"
    }
   ],
   "source": [
    "deseq_crispr8500_sans = deseq_crispr8500_sans.drop('Unnamed: 0', axis=1)\n",
    "deseq_crispr8500_sans.head()"
   ]
  },
  {
   "cell_type": "code",
   "execution_count": 120,
   "metadata": {},
   "outputs": [
    {
     "data": {
      "text/html": [
       "<div>\n",
       "<style scoped>\n",
       "    .dataframe tbody tr th:only-of-type {\n",
       "        vertical-align: middle;\n",
       "    }\n",
       "\n",
       "    .dataframe tbody tr th {\n",
       "        vertical-align: top;\n",
       "    }\n",
       "\n",
       "    .dataframe thead th {\n",
       "        text-align: right;\n",
       "    }\n",
       "</style>\n",
       "<table border=\"1\" class=\"dataframe\">\n",
       "  <thead>\n",
       "    <tr style=\"text-align: right;\">\n",
       "      <th></th>\n",
       "      <th>ID</th>\n",
       "      <th>GW_log2FC_CRISPR8500</th>\n",
       "      <th>log2FoldChange</th>\n",
       "    </tr>\n",
       "  </thead>\n",
       "  <tbody>\n",
       "    <tr>\n",
       "      <th>0</th>\n",
       "      <td>FBgn0013277</td>\n",
       "      <td>4.44523</td>\n",
       "      <td>3.353409</td>\n",
       "    </tr>\n",
       "    <tr>\n",
       "      <th>1</th>\n",
       "      <td>FBgn0015714</td>\n",
       "      <td>-2.48351</td>\n",
       "      <td>-2.832683</td>\n",
       "    </tr>\n",
       "    <tr>\n",
       "      <th>2</th>\n",
       "      <td>FBgn0019940</td>\n",
       "      <td>2.84592</td>\n",
       "      <td>3.254520</td>\n",
       "    </tr>\n",
       "    <tr>\n",
       "      <th>3</th>\n",
       "      <td>FBgn0028396</td>\n",
       "      <td>2.71304</td>\n",
       "      <td>2.455336</td>\n",
       "    </tr>\n",
       "    <tr>\n",
       "      <th>4</th>\n",
       "      <td>FBgn0030163</td>\n",
       "      <td>1.51634</td>\n",
       "      <td>1.333611</td>\n",
       "    </tr>\n",
       "  </tbody>\n",
       "</table>\n",
       "</div>"
      ],
      "text/plain": [
       "            ID GW_log2FC_CRISPR8500  log2FoldChange\n",
       "0  FBgn0013277              4.44523        3.353409\n",
       "1  FBgn0015714             -2.48351       -2.832683\n",
       "2  FBgn0019940              2.84592        3.254520\n",
       "3  FBgn0028396              2.71304        2.455336\n",
       "4  FBgn0030163              1.51634        1.333611"
      ]
     },
     "execution_count": 120,
     "metadata": {},
     "output_type": "execute_result"
    }
   ],
   "source": [
    "# Merge the two dataframes.\n",
    "deseq2_gw_8500_sans = genewiz_log2fc_8500.merge(deseq_crispr8500_sans, how='inner', on='ID')\n",
    "\n",
    "deseq2_gw_8500_sans.head()"
   ]
  },
  {
   "cell_type": "code",
   "execution_count": 121,
   "metadata": {},
   "outputs": [
    {
     "data": {
      "text/html": [
       "<div>\n",
       "<style scoped>\n",
       "    .dataframe tbody tr th:only-of-type {\n",
       "        vertical-align: middle;\n",
       "    }\n",
       "\n",
       "    .dataframe tbody tr th {\n",
       "        vertical-align: top;\n",
       "    }\n",
       "\n",
       "    .dataframe thead th {\n",
       "        text-align: right;\n",
       "    }\n",
       "</style>\n",
       "<table border=\"1\" class=\"dataframe\">\n",
       "  <thead>\n",
       "    <tr style=\"text-align: right;\">\n",
       "      <th></th>\n",
       "      <th>ID</th>\n",
       "      <th>GW_log2FC</th>\n",
       "      <th>DESeq2_log2FC</th>\n",
       "    </tr>\n",
       "  </thead>\n",
       "  <tbody>\n",
       "    <tr>\n",
       "      <th>0</th>\n",
       "      <td>FBgn0013277</td>\n",
       "      <td>4.44523</td>\n",
       "      <td>3.353409</td>\n",
       "    </tr>\n",
       "    <tr>\n",
       "      <th>1</th>\n",
       "      <td>FBgn0015714</td>\n",
       "      <td>-2.48351</td>\n",
       "      <td>-2.832683</td>\n",
       "    </tr>\n",
       "    <tr>\n",
       "      <th>2</th>\n",
       "      <td>FBgn0019940</td>\n",
       "      <td>2.84592</td>\n",
       "      <td>3.254520</td>\n",
       "    </tr>\n",
       "    <tr>\n",
       "      <th>3</th>\n",
       "      <td>FBgn0028396</td>\n",
       "      <td>2.71304</td>\n",
       "      <td>2.455336</td>\n",
       "    </tr>\n",
       "    <tr>\n",
       "      <th>4</th>\n",
       "      <td>FBgn0030163</td>\n",
       "      <td>1.51634</td>\n",
       "      <td>1.333611</td>\n",
       "    </tr>\n",
       "    <tr>\n",
       "      <th>5</th>\n",
       "      <td>FBgn0030830</td>\n",
       "      <td>-2.61504</td>\n",
       "      <td>-2.768883</td>\n",
       "    </tr>\n",
       "    <tr>\n",
       "      <th>6</th>\n",
       "      <td>FBgn0031435</td>\n",
       "      <td>1.25624</td>\n",
       "      <td>1.621697</td>\n",
       "    </tr>\n",
       "    <tr>\n",
       "      <th>7</th>\n",
       "      <td>FBgn0033395</td>\n",
       "      <td>2.53323</td>\n",
       "      <td>5.091478</td>\n",
       "    </tr>\n",
       "    <tr>\n",
       "      <th>8</th>\n",
       "      <td>FBgn0033980</td>\n",
       "      <td>2.4863</td>\n",
       "      <td>2.182078</td>\n",
       "    </tr>\n",
       "    <tr>\n",
       "      <th>9</th>\n",
       "      <td>FBgn0034128</td>\n",
       "      <td>2.20016</td>\n",
       "      <td>2.052489</td>\n",
       "    </tr>\n",
       "    <tr>\n",
       "      <th>10</th>\n",
       "      <td>FBgn0034166</td>\n",
       "      <td>1.42708</td>\n",
       "      <td>1.789596</td>\n",
       "    </tr>\n",
       "    <tr>\n",
       "      <th>11</th>\n",
       "      <td>FBgn0035434</td>\n",
       "      <td>-1.46442</td>\n",
       "      <td>-1.484976</td>\n",
       "    </tr>\n",
       "    <tr>\n",
       "      <th>12</th>\n",
       "      <td>FBgn0036815</td>\n",
       "      <td>-1.887</td>\n",
       "      <td>-1.387582</td>\n",
       "    </tr>\n",
       "    <tr>\n",
       "      <th>13</th>\n",
       "      <td>FBgn0037930</td>\n",
       "      <td>-2.33787</td>\n",
       "      <td>-2.223867</td>\n",
       "    </tr>\n",
       "    <tr>\n",
       "      <th>14</th>\n",
       "      <td>FBgn0037974</td>\n",
       "      <td>4.4844</td>\n",
       "      <td>5.218467</td>\n",
       "    </tr>\n",
       "    <tr>\n",
       "      <th>15</th>\n",
       "      <td>FBgn0038079</td>\n",
       "      <td>-1.7238</td>\n",
       "      <td>-1.957663</td>\n",
       "    </tr>\n",
       "    <tr>\n",
       "      <th>16</th>\n",
       "      <td>FBgn0038525</td>\n",
       "      <td>-3.11362</td>\n",
       "      <td>-3.202943</td>\n",
       "    </tr>\n",
       "    <tr>\n",
       "      <th>17</th>\n",
       "      <td>FBgn0039485</td>\n",
       "      <td>-1.25856</td>\n",
       "      <td>-1.307794</td>\n",
       "    </tr>\n",
       "    <tr>\n",
       "      <th>18</th>\n",
       "      <td>FBgn0039684</td>\n",
       "      <td>2.34397</td>\n",
       "      <td>3.517430</td>\n",
       "    </tr>\n",
       "    <tr>\n",
       "      <th>19</th>\n",
       "      <td>FBgn0039811</td>\n",
       "      <td>-2.03828</td>\n",
       "      <td>-2.260324</td>\n",
       "    </tr>\n",
       "    <tr>\n",
       "      <th>20</th>\n",
       "      <td>FBgn0043791</td>\n",
       "      <td>2.73318</td>\n",
       "      <td>2.750684</td>\n",
       "    </tr>\n",
       "    <tr>\n",
       "      <th>21</th>\n",
       "      <td>FBgn0051300</td>\n",
       "      <td>2.03699</td>\n",
       "      <td>2.084157</td>\n",
       "    </tr>\n",
       "    <tr>\n",
       "      <th>22</th>\n",
       "      <td>FBgn0051955</td>\n",
       "      <td>-1.14014</td>\n",
       "      <td>-1.447612</td>\n",
       "    </tr>\n",
       "    <tr>\n",
       "      <th>23</th>\n",
       "      <td>FBgn0052523</td>\n",
       "      <td>-5.05918</td>\n",
       "      <td>-4.790290</td>\n",
       "    </tr>\n",
       "    <tr>\n",
       "      <th>24</th>\n",
       "      <td>FBgn0085237</td>\n",
       "      <td>-2.64874</td>\n",
       "      <td>-3.137106</td>\n",
       "    </tr>\n",
       "    <tr>\n",
       "      <th>25</th>\n",
       "      <td>FBgn0261292</td>\n",
       "      <td>-2.33761</td>\n",
       "      <td>-2.451071</td>\n",
       "    </tr>\n",
       "  </tbody>\n",
       "</table>\n",
       "</div>"
      ],
      "text/plain": [
       "             ID GW_log2FC  DESeq2_log2FC\n",
       "0   FBgn0013277   4.44523       3.353409\n",
       "1   FBgn0015714  -2.48351      -2.832683\n",
       "2   FBgn0019940   2.84592       3.254520\n",
       "3   FBgn0028396   2.71304       2.455336\n",
       "4   FBgn0030163   1.51634       1.333611\n",
       "5   FBgn0030830  -2.61504      -2.768883\n",
       "6   FBgn0031435   1.25624       1.621697\n",
       "7   FBgn0033395   2.53323       5.091478\n",
       "8   FBgn0033980    2.4863       2.182078\n",
       "9   FBgn0034128   2.20016       2.052489\n",
       "10  FBgn0034166   1.42708       1.789596\n",
       "11  FBgn0035434  -1.46442      -1.484976\n",
       "12  FBgn0036815    -1.887      -1.387582\n",
       "13  FBgn0037930  -2.33787      -2.223867\n",
       "14  FBgn0037974    4.4844       5.218467\n",
       "15  FBgn0038079   -1.7238      -1.957663\n",
       "16  FBgn0038525  -3.11362      -3.202943\n",
       "17  FBgn0039485  -1.25856      -1.307794\n",
       "18  FBgn0039684   2.34397       3.517430\n",
       "19  FBgn0039811  -2.03828      -2.260324\n",
       "20  FBgn0043791   2.73318       2.750684\n",
       "21  FBgn0051300   2.03699       2.084157\n",
       "22  FBgn0051955  -1.14014      -1.447612\n",
       "23  FBgn0052523  -5.05918      -4.790290\n",
       "24  FBgn0085237  -2.64874      -3.137106\n",
       "25  FBgn0261292  -2.33761      -2.451071"
      ]
     },
     "execution_count": 121,
     "metadata": {},
     "output_type": "execute_result"
    }
   ],
   "source": [
    "# Rename columns and display resulting df.\n",
    "deseq2_gw_8500_sans = deseq2_gw_8500_sans.rename({'GW_log2FC_CRISPR8500':'GW_log2FC', 'log2FoldChange': 'DESeq2_log2FC'}, axis=1)\n",
    "deseq2_gw_8500_sans"
   ]
  },
  {
   "cell_type": "code",
   "execution_count": 122,
   "metadata": {
    "scrolled": true
   },
   "outputs": [
    {
     "data": {
      "text/plain": [
       "0.974367880614785"
      ]
     },
     "execution_count": 122,
     "metadata": {},
     "output_type": "execute_result"
    }
   ],
   "source": [
    "deseq2_gw_8500_sans['GW_log2FC'].astype('float64').corr(deseq2_gw_8500_sans['DESeq2_log2FC'].astype('float64'))"
   ]
  },
  {
   "cell_type": "code",
   "execution_count": 123,
   "metadata": {},
   "outputs": [],
   "source": [
    "# Change type to float \n",
    "deseq2_gw_8500_sans['GW_log2FC'] = deseq2_gw_8500_sans['GW_log2FC'].astype('float64')\n",
    "deseq2_gw_8500_sans['DESeq2_log2FC'] = deseq2_gw_8500_sans['DESeq2_log2FC'].astype('float64')"
   ]
  },
  {
   "cell_type": "code",
   "execution_count": 124,
   "metadata": {},
   "outputs": [
    {
     "data": {
      "text/plain": [
       "<seaborn.axisgrid.FacetGrid at 0x7f8e93cdb6d0>"
      ]
     },
     "execution_count": 124,
     "metadata": {},
     "output_type": "execute_result"
    },
    {
     "data": {
      "image/png": "[encoded data removed]",
      "text/plain": [
       "<Figure size 360x360 with 1 Axes>"
      ]
     },
     "metadata": {
      "needs_background": "light"
     },
     "output_type": "display_data"
    }
   ],
   "source": [
    "sns.lmplot(x='GW_log2FC', y='DESeq2_log2FC',\n",
    "               palette='pastel', data=deseq2_gw_8500_sans)"
   ]
  }
 ],
 "metadata": {
  "kernelspec": {
   "display_name": "Python 3",
   "language": "python",
   "name": "python3"
  },
  "language_info": {
   "codemirror_mode": {
    "name": "ipython",
    "version": 3
   },
   "file_extension": ".py",
   "mimetype": "text/x-python",
   "name": "python",
   "nbconvert_exporter": "python",
   "pygments_lexer": "ipython3",
   "version": "3.7.6"
  }
 },
 "nbformat": 4,
 "nbformat_minor": 4
}
